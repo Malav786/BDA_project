{
 "cells": [
  {
   "cell_type": "markdown",
   "id": "2cdba6ee",
   "metadata": {},
   "source": [
    "- In this project we tend to analyise what kind of profession is required for the students in the future. \n",
    "- As per a research, there are people who do not have a clear perspective of what they want to do in the future and what is their carrer path. \n",
    "- We plan to analyse the data from the job market before and post pandemic and to help students get a better understand of what kind of proffesion they can pursue and what skill are required for them excel in that profession.\n",
    "\n",
    "\n",
    "For instance as per these research, \n",
    "# Career Aspirations of Students Aged 18 or Below\n",
    "\n",
    "Understanding how many young individuals know what they want to do when they grow up varies across surveys and studies. Here are some key findings:\n",
    "\n",
    "## Key Statistics\n",
    "\n",
    "- **Junior Achievement and EY Survey (2017)**:  \n",
    "  This survey of 1,000 teenagers aged 13 to 17 found that **91% believed they knew the career they wanted to pursue**.  \n",
    "  [Source: Payscale](https://www.payscale.com/career-advice/teenager-career-choice-91-percent-teens-think-know-career-want/?utm_source=chatgpt.com)\n",
    "\n",
    "- **ECMC Group Study (2022)**:  \n",
    "  In a study involving high school students:\n",
    "  - **75% reported having a specific career in mind.**\n",
    "  - **74% felt it was important to have their career plans determined by the time they graduated high school.**  \n",
    "  [Source: The Journal](https://thejournal.com/articles/2022/05/19/national-study-high-schoolers-eyeing-career-and-workforce-landscape-when-deciding-their-futures.aspx?utm_source=chatgpt.com)\n",
    "\n",
    "- **OECD PISA 2022 Findings**:  \n",
    "  The Programme for International Student Assessment (PISA) 2022 reported:\n",
    "  - **Two in five 15-year-old students across OECD countries lacked clear career plans.**  \n",
    "  [Source: OECD iLibrary](https://www.oecd-ilibrary.org/education/teenage-career-uncertainty_e89c3da9-en?utm_source=chatgpt.com)\n",
    "\n",
    "## Summary\n",
    "While a significant majority of teenagers express confidence in their career aspirations, a substantial portion remain uncertain. These findings underscore the importance of career guidance and exploration programs to help young individuals make informed decisions about their futures.\n",
    "\n",
    "\n",
    "With our project we plan on creating a 360 degree view of the job market and the skills required for the students to excel in that profession along with the education that is required and the trend of the education and the job market till 2033. "
   ]
  },
  {
   "cell_type": "code",
   "execution_count": null,
   "id": "f281b438-1710-408a-8061-9349d102914a",
   "metadata": {
    "id": "f281b438-1710-408a-8061-9349d102914a"
   },
   "outputs": [],
   "source": [
    "import pandas as pd\n",
    "import os\n",
    "import openpyxl\n",
    "import matplotlib.pyplot as plt"
   ]
  },
  {
   "cell_type": "code",
   "execution_count": null,
   "id": "dbcc66bb",
   "metadata": {},
   "outputs": [],
   "source": [
    "from education_DataSet_cleaning_extraction import load_table_to_dataframe"
   ]
  },
  {
   "cell_type": "code",
   "execution_count": null,
   "id": "6f10d973",
   "metadata": {},
   "outputs": [],
   "source": [
    "\n",
    "file_path = \"2019-29/education.xlsx\"\n",
    "file_path2 = \"2023-33/education.xlsx\"\n",
    "education_52_1929 = load_table_to_dataframe(file_path, \"Table 5.2\", header_row=1,num_rows=9)\n",
    "education_53_1929 = load_table_to_dataframe(file_path, \"Table 5.3\", header_row=1,num_rows=791)\n",
    "education_54_1929 = load_table_to_dataframe(file_path,\"Table 5.4\",header_row=1,num_rows=790)\n",
    "education_51_2333 = load_table_to_dataframe(file_path2, \"Table 5.1\", header_row=1,num_rows=8)\n",
    "education_52_2333 = load_table_to_dataframe(file_path2, \"Table 5.2\", header_row=1,num_rows=9)\n",
    "education_53_2333 = load_table_to_dataframe(file_path2, \"Table 5.3\", header_row=1,num_rows=833)\n",
    "education_54_2333 = load_table_to_dataframe(file_path2,\"Table 5.4\",header_row=1,num_rows=832)"
   ]
  },
  {
   "cell_type": "code",
   "execution_count": null,
   "id": "725a5308-ab5f-433a-a50a-5d62d0554508",
   "metadata": {
    "id": "725a5308-ab5f-433a-a50a-5d62d0554508"
   },
   "outputs": [],
   "source": [
    "# Relative path to the Excel file (PRE PANDEMIC)\n",
    "file_path = \"2019-29/education.xlsx\"\n",
    "# Now the post pandemic path\n",
    "file_path2 = \"2023-33/education.xlsx\"\n",
    "\n",
    "# Load the workbook\n",
    "# Prepandemic workbook\n",
    "workbook = openpyxl.load_workbook(file_path)\n",
    "# Postpandemic workbook\n",
    "workbook2 = openpyxl.load_workbook(file_path2)\n",
    "\n",
    "# Collection of the spreadsheet tabs we will be working with (PRE PANDEMIC)\n",
    "table1 = workbook[\"Table 5.2\"]\n",
    "table2 = workbook[\"Table 5.3\"]\n",
    "table3 = workbook[\"Table 5.4\"]\n",
    "\n",
    "# Collection of spreadsheet tabs we will also be working with (POST PANDEMIC)\n",
    "table1p = workbook[\"Table 5.2\"]\n",
    "table2p = workbook[\"Table 5.3\"]\n",
    "table3p = workbook[\"Table 5.4\"]\n",
    "# Note: post-pandemic spreadsheet has an additional data table Table 5.1, but since it is absent in the pre-pandemic tables, I didn't include it\n",
    "\n",
    "# Function that processes and outputs all of our data\n",
    "def processTable(sheet):\n",
    "    # Loop through rows and columns to extract data neatly\n",
    "    for row in sheet.iter_rows(min_row=1, max_row=sheet.max_row, min_col=1, max_col=sheet.max_column):\n",
    "        row_values = [cell.value for cell in row]\n",
    "        print(row_values) # test\n"
   ]
  },
  {
   "cell_type": "code",
   "execution_count": null,
   "id": "278e4713",
   "metadata": {},
   "outputs": [],
   "source": [
    "education_52_2333.columns"
   ]
  },
  {
   "cell_type": "code",
   "execution_count": null,
   "id": "2f27238a",
   "metadata": {},
   "outputs": [],
   "source": [
    "education_52_1929.columns"
   ]
  },
  {
   "cell_type": "code",
   "execution_count": null,
   "id": "f9248822",
   "metadata": {},
   "outputs": [],
   "source": [
    "education_52_2333['Typical entry-level education'][1:]"
   ]
  },
  {
   "cell_type": "code",
   "execution_count": null,
   "id": "2d1c7d23",
   "metadata": {},
   "outputs": [],
   "source": [
    "education_52_1929['Typical entry-level education'][1:]"
   ]
  },
  {
   "cell_type": "code",
   "execution_count": null,
   "id": "63dc8da4",
   "metadata": {},
   "outputs": [],
   "source": [
    "\n",
    "# Data for 2023\n",
    "labels_2023 = education_52_2333['Typical entry-level education'][1:]  # Exclude Total, All Occupations\n",
    "values_2023 = education_52_2333['Employment distribution, percent, 2023'][1:]\n",
    "\n",
    "# Data for 2019\n",
    "labels_2019 = education_52_1929['Typical entry-level education'][1:]  # Exclude Total, All Occupations\n",
    "values_2019 = education_52_1929['Employment distribution, percent, 2019'][1:]\n",
    "\n",
    "# Ensure labels match for comparison\n",
    "# assert list(labels_2023) == list(labels_2019), \"Labels for 2019 and 2023 do not match!\"\n",
    "\n",
    "# Create positions for the bars\n",
    "x = np.arange(len(labels_2023))  # Positions for groups\n",
    "width = 0.35  # Width of each bar\n",
    "\n",
    "# Plot the grouped bar chart\n",
    "plt.figure(figsize=(14, 7))\n",
    "plt.bar(x - width/2, values_2023, width, label='2023', color='skyblue', edgecolor='black')\n",
    "plt.bar(x + width/2, values_2019, width, label='2019', color='lightcoral', edgecolor='black')\n",
    "\n",
    "# Add labels, title, and legend\n",
    "plt.title('Employment Distribution by Education Level: 2019 vs 2023', fontsize=16)\n",
    "plt.xlabel('Education Level', fontsize=14)\n",
    "plt.ylabel('Employment Distribution (%)', fontsize=14)\n",
    "plt.xticks(x, labels_2023, rotation=45, ha='right', fontsize=12)\n",
    "plt.legend(title=\"Year\", fontsize=12)\n",
    "plt.grid(axis='y', linestyle='--', alpha=0.7)\n",
    "\n",
    "# Adjust layout and show the plot\n",
    "plt.tight_layout()\n",
    "plt.show()"
   ]
  },
  {
   "cell_type": "markdown",
   "id": "76ee5149",
   "metadata": {},
   "source": [
    "# **Analysis of Employment Distribution by Education Level: 2019 vs 2023**\n",
    "\n",
    "### Key Observations:\n",
    "\n",
    "1. **Dominance of High School Diploma or Equivalent**:\n",
    "   - Both in 2019 and 2023, the **\"High school diploma or equivalent\"** category has the highest employment distribution percentage.\n",
    "   - This indicates that a significant portion of the workforce requires at least a high school diploma, making it a critical baseline qualification.\n",
    "\n",
    "2. **Stability Across Time**:\n",
    "   - Employment distribution across most education levels appears relatively stable between 2019 and 2023.\n",
    "   - Only minor changes are observed in the percentages for each category, suggesting consistency in workforce qualifications over time.\n",
    "\n",
    "3. **Higher Education Levels (Bachelor's and Master's Degrees)**:\n",
    "   - While higher education categories like **\"Bachelor's degree\"** and **\"Master's degree\"** show smaller percentages compared to high school diplomas, their share remains significant.\n",
    "   - This reflects their importance for specialized or higher-paying roles in the workforce.\n",
    "\n",
    "\n",
    "From this graph, we can see that the highest employment in 2019 was in the category of **\"High school diploma or equivalent.\"** However, we cannot say for sure that a high school diploma or equivalent degree will always have the highest employment because, for higher degrees, the **minimum requirement** is often a high school diploma or equivalent.\n",
    "\n",
    "We also need to analyze data from the **occupation perspective** to draw a more accurate conclusion. For instance, if the highest-paying job is that of a CEO, we need to examine the **minimum degree** a CEO typically holds.\n",
    "\n",
    "From this graph, we can definitely say that to secure a good job, a person **needs at least a high school diploma or equivalent.**"
   ]
  },
  {
   "cell_type": "markdown",
   "id": "a3cc485d",
   "metadata": {},
   "source": [
    "The above two graphs shows the same data. We can have either one of them. "
   ]
  },
  {
   "cell_type": "code",
   "execution_count": null,
   "id": "56fcbd33",
   "metadata": {},
   "outputs": [],
   "source": [
    "import matplotlib.pyplot as plt\n",
    "import numpy as np\n",
    "\n",
    "# Data for 2019\n",
    "labels_2019 = education_52_1929['Typical entry-level education'][1:]  # Exclude Total, All Occupations\n",
    "values_2019 = education_52_1929['Employment change, percent, 2019-29'][1:]\n",
    "\n",
    "# Data for 2023\n",
    "labels_2023 = education_52_2333['Typical entry-level education'][1:]  # Exclude Total, All Occupations\n",
    "values_2023 = education_52_2333['Percent employment change, 2023-33'][1:]\n",
    "\n",
    "# Ensure labels match for comparison\n",
    "# assert list(labels_2023) == list(labels_2019), \"Labels for 2019 and 2023 do not match!\"\n",
    "\n",
    "# Convert labels to positions for plotting\n",
    "x = np.arange(len(labels_2023))  # Positions for each education level\n",
    "\n",
    "# Plot the line graph\n",
    "plt.figure(figsize=(14, 7))\n",
    "plt.plot(x, values_2023, label='2023', marker='o', color='skyblue', linewidth=2)\n",
    "plt.plot(x, values_2019, label='2019', marker='o', color='lightcoral', linewidth=2)\n",
    "\n",
    "# Add labels, title, and legend\n",
    "plt.title('Employment Prediction Change by Education Level: 2019-29 vs 2023-33', fontsize=16)\n",
    "plt.xlabel('Education Level', fontsize=14)\n",
    "plt.ylabel('Employment Change (%)', fontsize=14)\n",
    "plt.xticks(x, labels_2023, rotation=45, ha='right', fontsize=12)\n",
    "plt.legend(title=\"Year\", fontsize=12)\n",
    "plt.grid(axis='y', linestyle='--', alpha=0.7)\n",
    "\n",
    "# Adjust layout and show the plot\n",
    "plt.tight_layout()\n",
    "plt.show()"
   ]
  },
  {
   "cell_type": "code",
   "execution_count": null,
   "id": "642884c8",
   "metadata": {},
   "outputs": [],
   "source": [
    "education_52_1929.columns"
   ]
  },
  {
   "cell_type": "code",
   "execution_count": null,
   "id": "61656220",
   "metadata": {},
   "outputs": [],
   "source": [
    "education_52_2333.columns"
   ]
  },
  {
   "cell_type": "code",
   "execution_count": null,
   "id": "9d91460a",
   "metadata": {},
   "outputs": [],
   "source": [
    "import matplotlib.pyplot as plt\n",
    "import numpy as np\n",
    "\n",
    "# Data for 2019\n",
    "labels_2019 = education_52_1929['Typical entry-level education'][1:]  # Exclude Total, All Occupations\n",
    "values_2019 = education_52_1929['Median annual wage, 2020(1)'][1:]\n",
    "\n",
    "# Data for 2023\n",
    "labels_2023 = education_52_2333['Typical entry-level education'][1:]  # Exclude Total, All Occupations\n",
    "values_2023 = education_52_2333['Median annual wage, dollars, 2023[1]'][1:]\n",
    "\n",
    "# Ensure labels match for comparison\n",
    "# assert list(labels_2023) == list(labels_2019), \"Labels for 2019 and 2023 do not match!\"\n",
    "\n",
    "# Convert labels to positions for plotting\n",
    "x = np.arange(len(labels_2023))  # Positions for each education level\n",
    "\n",
    "# Plot the line graph\n",
    "plt.figure(figsize=(14, 7))\n",
    "plt.plot(x, values_2023, label='2023', marker='o', color='skyblue', linewidth=2)\n",
    "plt.plot(x, values_2019, label='2019', marker='o', color='lightcoral', linewidth=2)\n",
    "\n",
    "# Add labels, title, and legend\n",
    "plt.title('Median Annual Wage Change from 2019-29 vs 2023-33', fontsize=16)\n",
    "plt.xlabel('Education Level', fontsize=14)\n",
    "plt.ylabel('Median Annual Wage($)', fontsize=14)\n",
    "plt.xticks(x, labels_2023, rotation=45, ha='right', fontsize=12)\n",
    "plt.legend(title=\"Year\", fontsize=12)\n",
    "plt.grid(axis='y', linestyle='--', alpha=0.7)\n",
    "\n",
    "# Adjust layout and show the plot\n",
    "plt.tight_layout()\n",
    "plt.show()"
   ]
  },
  {
   "cell_type": "code",
   "execution_count": null,
   "id": "672ef95a",
   "metadata": {},
   "outputs": [],
   "source": [
    "# Plot area chart\n",
    "plt.figure(figsize=(14, 7))\n",
    "plt.fill_between(x, values_2023, alpha=0.6, color='skyblue', label='2023')\n",
    "plt.fill_between(x, values_2019, alpha=0.6, color='lightcoral', label='2019')\n",
    "plt.plot(x, values_2023, marker='o', color='skyblue', linewidth=2)\n",
    "plt.plot(x, values_2019, marker='o', color='lightcoral', linewidth=2)\n",
    "\n",
    "# Add labels, title, and legend\n",
    "plt.title('Median Annual Wage Change from 2020 vs 2023', fontsize=16)\n",
    "plt.xlabel('Education Level', fontsize=14)\n",
    "plt.ylabel('Median Annual Wage ($)', fontsize=14)\n",
    "plt.xticks(x, labels_2023, rotation=45, ha='right', fontsize=12)\n",
    "plt.legend(title=\"Year\", fontsize=12)\n",
    "plt.grid(axis='y', linestyle='--', alpha=0.7)\n",
    "\n",
    "# Show the plot\n",
    "plt.tight_layout()\n",
    "plt.show()"
   ]
  },
  {
   "cell_type": "code",
   "execution_count": null,
   "id": "8e4e68c4-46ba-4022-a71c-8f26b26d4452",
   "metadata": {
    "id": "8e4e68c4-46ba-4022-a71c-8f26b26d4452"
   },
   "outputs": [],
   "source": [
    "# This data table is Table 5.3 Educational attainment for workers 25 years and older by detailed occupation, 2019\n",
    "# List indices are: 2019 National Employment Matrix title, 2019 National Employment Matrix code,\n",
    "#high school diploma num, some college no degree num, associates degree num, bachelors degree num, masters degree num, doctorate num\n",
    "processTable(table2)\n",
    "print(\"\\n\")"
   ]
  },
  {
   "cell_type": "code",
   "execution_count": null,
   "id": "997290ca",
   "metadata": {},
   "outputs": [],
   "source": [
    "education_53_1929"
   ]
  },
  {
   "cell_type": "code",
   "execution_count": null,
   "id": "eabe8335",
   "metadata": {},
   "outputs": [],
   "source": [
    "import panel as pn\n",
    "import matplotlib.pyplot as plt\n",
    "import pandas as pd\n",
    "\n",
    "# Enable Panel extensions\n",
    "pn.extension()\n",
    "\n",
    "# Sample data (replace with your actual datasets)\n",
    "pre_covid_data = {\n",
    "    \"Occupation\": [\"Total, all occupations\", \"Software Developers\", \"Teachers\", \"Nurses\"],\n",
    "    \"Less than high school diploma\": [5, 0, 1, 2],\n",
    "    \"High school diploma or equivalent\": [10, 2, 20, 15],\n",
    "    \"Some college, no degree\": [15, 5, 25, 20],\n",
    "    \"Associate's degree\": [10, 10, 5, 30],\n",
    "    \"Bachelor's degree\": [40, 60, 40, 25],\n",
    "    \"Master's degree\": [10, 20, 5, 5],\n",
    "    \"Doctoral or professional degree\": [10, 3, 4, 3],\n",
    "}\n",
    "\n",
    "pre_covid_data = ed\n",
    "\n",
    "post_covid_data = {\n",
    "    \"Occupation\": [\"Total, all occupations\", \"Software Developers\", \"Teachers\", \"Nurses\"],\n",
    "    \"Less than high school diploma\": [4, 0, 1, 1],\n",
    "    \"High school diploma or equivalent\": [12, 3, 18, 14],\n",
    "    \"Some college, no degree\": [14, 4, 24, 18],\n",
    "    \"Associate's degree\": [12, 12, 6, 32],\n",
    "    \"Bachelor's degree\": [42, 62, 38, 26],\n",
    "    \"Master's degree\": [8, 18, 6, 6],\n",
    "    \"Doctoral or professional degree\": [8, 3, 7, 3],\n",
    "}\n",
    "\n",
    "# Convert the data to DataFrames\n",
    "pre_covid_df = pd.DataFrame(pre_covid_data)\n",
    "post_covid_df = pd.DataFrame(post_covid_data)\n",
    "\n",
    "# Education levels (columns to display)\n",
    "education_levels = [\n",
    "    \"Less than high school diploma\",\n",
    "    \"High school diploma or equivalent\",\n",
    "    \"Some college, no degree\",\n",
    "    \"Associate's degree\",\n",
    "    \"Bachelor's degree\",\n",
    "    \"Master's degree\",\n",
    "    \"Doctoral or professional degree\",\n",
    "]\n",
    "\n",
    "# Function to extract and process data for the selected occupation\n",
    "def extract_data(occupation, dataset):\n",
    "    row = dataset[dataset[\"Occupation\"] == occupation]\n",
    "    if row.empty:\n",
    "        return None\n",
    "    return row.iloc[0][education_levels].tolist()"
   ]
  },
  {
   "cell_type": "code",
   "execution_count": null,
   "id": "3adfa4de-5260-4622-a776-f9d7d7f9dde8",
   "metadata": {
    "colab": {
     "base_uri": "https://localhost:8080/",
     "height": 607
    },
    "id": "3adfa4de-5260-4622-a776-f9d7d7f9dde8",
    "outputId": "ac5173e5-6687-409f-96ef-ffb4578d6371"
   },
   "outputs": [],
   "source": [
    "\n",
    "# Function to process and extract relevant rows for a specific title\n",
    "def extract_total_occupation_data(sheet):\n",
    "    for row in sheet.iter_rows(min_row=1, max_row=sheet.max_row, min_col=1, max_col=sheet.max_column):\n",
    "        row_values = [cell.value for cell in row]\n",
    "        # Look for the row with \"Total, all occupations\"\n",
    "        if row_values[0] == \"Total, all occupations\":\n",
    "            return row_values[2:]  # Return data starting from index 2 (excluding matrix code)\n",
    "\n",
    "# Extracting data\n",
    "total_occupation_data = extract_total_occupation_data(table2)\n",
    "\n",
    "# Education levels corresponding to the data\n",
    "education_levels = [\n",
    "    \"Less than high school diploma\",\n",
    "    \"High school diploma or equivalent\",\n",
    "    \"Some college, no degree\",\n",
    "    \"Associate's degree\",\n",
    "    \"Bachelor's degree\",\n",
    "    \"Master's degree\",\n",
    "    \"Doctoral or professional degree\",\n",
    "]\n",
    "\n",
    "# Plot the bar graph\n",
    "plt.figure(figsize=(12, 6))\n",
    "plt.bar(education_levels, total_occupation_data, color='skyblue', edgecolor='black')\n",
    "plt.title(\"Educational Attainment Distribution Percentage (Total, All Occupations, 2019)\", fontsize=16)\n",
    "plt.xlabel(\"Education Level\", fontsize=14)\n",
    "plt.ylabel(\"Percentage of Workers\", fontsize=14)\n",
    "plt.xticks(rotation=45, ha='right', fontsize=12)\n",
    "plt.grid(axis='y', linestyle='--', alpha=0.7)\n",
    "plt.tight_layout()\n",
    "plt.show()"
   ]
  },
  {
   "cell_type": "code",
   "execution_count": null,
   "id": "147bd8b5-b810-428a-81d5-7c65cb1343db",
   "metadata": {
    "colab": {
     "base_uri": "https://localhost:8080/"
    },
    "collapsed": true,
    "id": "147bd8b5-b810-428a-81d5-7c65cb1343db",
    "outputId": "32ea67db-76b7-4c24-a5fc-5f9838e9ac00"
   },
   "outputs": [],
   "source": [
    "# This data table is Table 5.4 Education and training assignments by detailed occupation, 2019\n",
    "processTable(table3)\n",
    "print(\"\\n\")\n"
   ]
  },
  {
   "cell_type": "markdown",
   "id": "2G6wN8j2Ojw_",
   "metadata": {
    "id": "2G6wN8j2Ojw_"
   },
   "source": [
    "Beginning of visualizations for table 5.4 data:\n"
   ]
  },
  {
   "cell_type": "code",
   "execution_count": null,
   "id": "pp4IVEJ7_lWC",
   "metadata": {
    "colab": {
     "base_uri": "https://localhost:8080/",
     "height": 1000
    },
    "collapsed": true,
    "id": "pp4IVEJ7_lWC",
    "outputId": "3f6e3f19-1df5-429d-8845-b85e4f82bf53"
   },
   "outputs": [],
   "source": [
    "import matplotlib.pyplot as plt\n",
    "from collections import Counter\n",
    "\n",
    "# Access Table 5.4 (Education and training data)\n",
    "table_prepandemic = workbook[\"Table 5.4\"]\n",
    "table_postpandemic = workbook2[\"Table 5.4\"]\n",
    "\n",
    "# Function to process and extract data from Table 5.4\n",
    "def extract_table_5_4_data(sheet):\n",
    "    data = []\n",
    "    for row in sheet.iter_rows(min_row=4, max_row=sheet.max_row, min_col=1, max_col=6):  # Adjust rows/columns as needed\n",
    "        row_values = [cell.value for cell in row]\n",
    "        # Skip empty or metadata rows\n",
    "        if not row_values[0] or row_values[0].startswith(\"Table\") or row_values[0] in (\"Footnotes:\", \"(1)\"):\n",
    "            continue\n",
    "        # Collect only meaningful rows\n",
    "        data.append({\n",
    "            \"Occupation\": row_values[0],\n",
    "            \"Education\": row_values[2],  # Column C\n",
    "            \"Work Experience\": row_values[3],  # Column D\n",
    "            \"On-the-Job Training\": row_values[4],  # Column E\n",
    "        })\n",
    "    return pd.DataFrame(data)\n",
    "\n",
    "# Extract data for pre- and post-pandemic\n",
    "data_prepandemic = extract_table_5_4_data(table_prepandemic)\n",
    "data_postpandemic = extract_table_5_4_data(table_postpandemic)"
   ]
  },
  {
   "cell_type": "markdown",
   "id": "5d-t9NBRSJno",
   "metadata": {
    "id": "5d-t9NBRSJno"
   },
   "source": [
    "Graph 1: Distribution of Typical Education Needed for Entry (Pre-Pandemic)"
   ]
  },
  {
   "cell_type": "code",
   "execution_count": null,
   "id": "0SQC0DfhOR4W",
   "metadata": {
    "colab": {
     "base_uri": "https://localhost:8080/",
     "height": 607
    },
    "id": "0SQC0DfhOR4W",
    "outputId": "053732de-ce02-4944-d214-d46729bb6185"
   },
   "outputs": [],
   "source": [
    "# Graph 1: Typical Education Needed for Entry\n",
    "education_counts = Counter(data_prepandemic['Education'])\n",
    "\n",
    "# Filter out None values from the keys\n",
    "valid_education_keys = [key for key in education_counts.keys() if key is not None]\n",
    "valid_education_values = [education_counts[key] for key in valid_education_keys]\n",
    "\n",
    "plt.figure(figsize=(10, 6))\n",
    "# Use the filtered keys and values for plotting\n",
    "plt.bar(valid_education_keys, valid_education_values, color='skyblue', edgecolor='black')\n",
    "plt.title('Distribution of Typical Education Needed for Entry (Pre-Pandemic)', fontsize=16)\n",
    "plt.xlabel('Education Level', fontsize=14)\n",
    "plt.ylabel('Number of Occupations', fontsize=14)\n",
    "plt.xticks(rotation=45, ha='right', fontsize=12)\n",
    "plt.grid(axis='y', linestyle='--', alpha=0.7)\n",
    "plt.tight_layout()\n",
    "plt.show()"
   ]
  },
  {
   "cell_type": "markdown",
   "id": "cyiHr-RiSPVx",
   "metadata": {
    "id": "cyiHr-RiSPVx"
   },
   "source": [
    "Graph 2: Required Work Experience in a Related Occupation"
   ]
  },
  {
   "cell_type": "code",
   "execution_count": null,
   "id": "o-1p7BZEOYDW",
   "metadata": {
    "colab": {
     "base_uri": "https://localhost:8080/",
     "height": 607
    },
    "collapsed": true,
    "id": "o-1p7BZEOYDW",
    "outputId": "907d935b-1fea-4d7a-a8c1-dc5c5237c493"
   },
   "outputs": [],
   "source": [
    "# Graph 2: Work Experience in a Related Occupation\n",
    "experience_counts = Counter(data_prepandemic['Work Experience'])\n",
    "\n",
    "# Filter out None values from the keys\n",
    "valid_experience_keys = [key for key in experience_counts.keys() if key is not None]\n",
    "valid_experience_values = [experience_counts[key] for key in valid_experience_keys]\n",
    "\n",
    "\n",
    "plt.figure(figsize=(10, 6))\n",
    "# Use the filtered keys and values for plotting\n",
    "plt.bar(valid_experience_keys, valid_experience_values, color='lightcoral', edgecolor='black')\n",
    "plt.title('Distribution of Work Experience in Related Occupations (Pre-Pandemic)', fontsize=16)\n",
    "plt.xlabel('Work Experience', fontsize=14)\n",
    "plt.ylabel('Number of Occupations', fontsize=14)\n",
    "plt.xticks(rotation=45, ha='right', fontsize=12)\n",
    "plt.grid(axis='y', linestyle='--', alpha=0.7)\n",
    "plt.tight_layout()\n",
    "plt.show()"
   ]
  },
  {
   "cell_type": "markdown",
   "id": "JCXuVNdbSW9h",
   "metadata": {
    "id": "JCXuVNdbSW9h"
   },
   "source": [
    "Graph 3: Typical On-the-Job Training Needed"
   ]
  },
  {
   "cell_type": "code",
   "execution_count": null,
   "id": "MzmhYYSKOcsp",
   "metadata": {
    "colab": {
     "base_uri": "https://localhost:8080/",
     "height": 607
    },
    "collapsed": true,
    "id": "MzmhYYSKOcsp",
    "outputId": "6649546e-d7bd-4f56-f1a8-d0d0b6e8043d"
   },
   "outputs": [],
   "source": [
    "# Graph 3: Typical On-the-Job Training Needed\n",
    "training_counts = Counter(data_prepandemic['On-the-Job Training'])\n",
    "\n",
    "# Filter out None values from the keys\n",
    "valid_training_keys = [key for key in training_counts.keys() if key is not None]\n",
    "valid_training_values = [training_counts[key] for key in valid_training_keys]\n",
    "\n",
    "# Plot the data for Typical On-the-Job Training\n",
    "plt.figure(figsize=(10, 6))\n",
    "plt.bar(valid_training_keys, valid_training_values, color='mediumseagreen', edgecolor='black')\n",
    "plt.title('Distribution of Typical On-the-Job Training Needed (Pre-Pandemic)', fontsize=16)\n",
    "plt.xlabel('On-the-Job Training', fontsize=14)\n",
    "plt.ylabel('Number of Occupations', fontsize=14)\n",
    "plt.xticks(rotation=45, ha='right', fontsize=12)\n",
    "plt.grid(axis='y', linestyle='--', alpha=0.7)\n",
    "plt.tight_layout()\n",
    "plt.show()\n"
   ]
  },
  {
   "cell_type": "markdown",
   "id": "n9Y8513xS1h3",
   "metadata": {
    "id": "n9Y8513xS1h3"
   },
   "source": [
    "The cell below displays 7 charts - one for each education level from graph 1 combined with the data from graph 2 (the amount of work experince needed for an occupation)"
   ]
  },
  {
   "cell_type": "code",
   "execution_count": null,
   "id": "-Ie78L-zRPO9",
   "metadata": {
    "colab": {
     "base_uri": "https://localhost:8080/",
     "height": 1000
    },
    "id": "-Ie78L-zRPO9",
    "outputId": "09e8efb2-c220-4a13-ae41-c9e97a0e2686"
   },
   "outputs": [],
   "source": [
    "# Graphs for Data from both graphs 1 and 2\n",
    "\n",
    "# Group data by education level\n",
    "grouped_by_education = data_prepandemic.groupby('Education')\n",
    "\n",
    "# Iterate over each education level and plot the distribution of work experience\n",
    "for education_level, group in grouped_by_education:\n",
    "    print(\"\\n\")\n",
    "    # Count work experience categories for this education level\n",
    "    work_experience_counts = Counter(group['Work Experience'])\n",
    "\n",
    "    # Filter out None values\n",
    "    valid_experience_keys = [key for key in work_experience_counts.keys() if key is not None]\n",
    "    valid_experience_values = [work_experience_counts[key] for key in valid_experience_keys]\n",
    "\n",
    "    # Plot the data\n",
    "    plt.figure(figsize=(10, 6))\n",
    "    plt.bar(valid_experience_keys, valid_experience_values, color='lightblue', edgecolor='black')\n",
    "    plt.title(f'Required Work Experience Distribution for a job that requires {education_level} (Pre-Pandemic)', fontsize=16)\n",
    "    plt.xlabel('Work Experience Needed', fontsize=14)\n",
    "    plt.ylabel('Number of Occupations', fontsize=14)\n",
    "    plt.xticks(rotation=45, ha='right', fontsize=12)\n",
    "    plt.grid(axis='y', linestyle='--', alpha=0.7)\n",
    "    plt.tight_layout()\n",
    "    plt.show()\n"
   ]
  },
  {
   "cell_type": "code",
   "execution_count": null,
   "id": "3d8d6e98-298f-411c-ae9a-e6ba559e9017",
   "metadata": {
    "colab": {
     "base_uri": "https://localhost:8080/"
    },
    "collapsed": true,
    "id": "3d8d6e98-298f-411c-ae9a-e6ba559e9017",
    "outputId": "d06b1f6e-1a9d-4e46-f06e-3823171328eb",
    "scrolled": true
   },
   "outputs": [],
   "source": [
    "# -- POST PANDEMIC DATA --\n",
    "\n",
    "# This data table is Table 5.2 Employment, wages, and projected change in employment by typical entry-level education (Employment in thousands)\n",
    "# List indices are: Typical Entry level education, employment 2033, employment distribution % 2023, employment change % 2023-33, median annual wage\n",
    "processTable(table1p)\n",
    "print(\"\\n\")"
   ]
  },
  {
   "cell_type": "code",
   "execution_count": null,
   "id": "8c09bb39-8998-468d-957f-1f16adb4b814",
   "metadata": {
    "collapsed": true,
    "id": "8c09bb39-8998-468d-957f-1f16adb4b814",
    "outputId": "08c235df-11f0-4d02-ae12-1e2466e88c9c"
   },
   "outputs": [],
   "source": [
    "# This data table is Table 5.3 Educational attainment for workers 25 years and older by detailed occupation, 2023\n",
    "# List indices are: 2019 National Employment Matrix title, 2019 National Employment Matrix code,\n",
    "#high school diploma num, some college no degree num, associates degree num, bachelors degree num, masters degree num, doctorate num\n",
    "processTable(table2p)\n",
    "print(\"\\n\")"
   ]
  },
  {
   "cell_type": "code",
   "execution_count": null,
   "id": "553ebab5-f33c-48d5-b203-dacdcf4b91e4",
   "metadata": {
    "collapsed": true,
    "id": "553ebab5-f33c-48d5-b203-dacdcf4b91e4",
    "outputId": "0750413a-a5cc-4b8d-bbb6-6740fc63acea"
   },
   "outputs": [],
   "source": [
    "# This data table is Table 5.4 Education and training assignments by detailed occupation, 2023\n",
    "processTable(table3p)\n",
    "print(\"\\n\")"
   ]
  },
  {
   "cell_type": "code",
   "execution_count": null,
   "id": "b20ea0c4-7877-4626-99e1-e2d808935540",
   "metadata": {
    "id": "b20ea0c4-7877-4626-99e1-e2d808935540"
   },
   "outputs": [],
   "source": []
  }
 ],
 "metadata": {
  "colab": {
   "provenance": []
  },
  "kernelspec": {
   "display_name": "new_env",
   "language": "python",
   "name": "python3"
  },
  "language_info": {
   "codemirror_mode": {
    "name": "ipython",
    "version": 3
   },
   "file_extension": ".py",
   "mimetype": "text/x-python",
   "name": "python",
   "nbconvert_exporter": "python",
   "pygments_lexer": "ipython3",
   "version": "3.12.4"
  }
 },
 "nbformat": 4,
 "nbformat_minor": 5
}
