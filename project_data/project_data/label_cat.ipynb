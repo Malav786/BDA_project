{
 "cells": [
  {
   "cell_type": "code",
   "execution_count": 3,
   "metadata": {},
   "outputs": [],
   "source": [
    "import pandas as pd\n",
    "from sklearn.model_selection import train_test_split\n",
    "from sklearn.feature_extraction.text import TfidfVectorizer\n",
    "from sklearn.ensemble import RandomForestClassifier\n",
    "from sklearn.metrics import classification_report\n",
    "import os\n",
    "import openpyxl\n",
    "import matplotlib.pyplot as plt"
   ]
  },
  {
   "cell_type": "code",
   "execution_count": null,
   "metadata": {},
   "outputs": [],
   "source": [
    "occup_file = \"2019-29/occupation.xlsx\"\n",
    "occup_data = openpyxl.load_workbook(occup_file)"
   ]
  },
  {
   "cell_type": "code",
   "execution_count": 7,
   "metadata": {},
   "outputs": [],
   "source": [
    "table_1_1 = occup_data[\"Table 1.1\"]\n",
    "table_1_2 = occup_data[\"Table 1.2\"]"
   ]
  },
  {
   "cell_type": "code",
   "execution_count": 8,
   "metadata": {},
   "outputs": [],
   "source": [
    "def processTable(sheet):\n",
    "    # Output the title from the first row (index 0)\n",
    "    table_title = sheet[1][0].value  # First row, first column is the title\n",
    "    print(f\"Table Title: {table_title}\")\n",
    "    \n",
    "    # Output the column names from the second row (index 1)\n",
    "    column_names = [cell.value for cell in sheet[2]]  # Second row for column names\n",
    "    print(\"Column Names:\")\n",
    "    print(column_names)\n",
    "    \n",
    "    # Output the data starting from the third row (index 2)\n",
    "    print(\"\\nRow Data:\")\n",
    "    for row in sheet.iter_rows(min_row=3, max_row=sheet.max_row, min_col=1, max_col=sheet.max_column):\n",
    "        row_values = [cell.value for cell in row]\n",
    "        print(row_values)\n"
   ]
  },
  {
   "cell_type": "code",
   "execution_count": null,
   "metadata": {},
   "outputs": [
    {
     "name": "stdout",
     "output_type": "stream",
     "text": [
      "Table Title: Table 1.1 Employment by major occupational group, 2019 and projected 2029\n",
      "(Numbers in thousands)\n",
      "Column Names:\n",
      "['2019 National Employment Matrix title', '2019 National Employment Matrix code', 'Employment, 2019', 'Employment, 2029', 'Employment change, numeric, 2019-29', 'Employment change, percent, 2019-29', 'Median annual wage, 2020(1)']\n",
      "\n",
      "Row Data:\n",
      "['Total, all occupations', '00-0000', 162795.6, 168834.7, 6039.2, 3.7, 41950]\n",
      "['Management occupations', '11-0000', 10697.2, 11202.2, 505, 4.7, 109760]\n",
      "['Business and financial operations occupations', '13-0000', 9016.3, 9492.5, 476.2, 5.3, 72250]\n",
      "['Computer and mathematical occupations', '15-0000', 4845.1, 5432.4, 587.4, 12.1, 91350]\n",
      "['Architecture and engineering occupations', '17-0000', 2728.9, 2803.7, 74.8, 2.7, 83160]\n",
      "['Life, physical, and social science occupations', '19-0000', 1460.3, 1528.5, 68.2, 4.7, 69760]\n",
      "['Community and social service occupations', '21-0000', 2797.7, 3146.3, 348.6, 12.5, 47520]\n",
      "['Legal occupations', '23-0000', 1335.6, 1403.2, 67.6, 5.1, 84910]\n",
      "['Educational instruction and library occupations', '25-0000', 9744.7, 10185.6, 441, 4.5, 52380]\n",
      "['Arts, design, entertainment, sports, and media occupations', '27-0000', 2923.6, 2997.6, 73.9, 2.5, 53150]\n",
      "['Healthcare practitioners and technical occupations', '29-0000', 9133.7, 9967.3, 833.6, 9.1, 69870]\n",
      "['Healthcare support occupations', '31-0000', 7013.4, 8598.1, 1584.8, 22.6, 29960]\n",
      "['Protective service occupations', '33-0000', 3615.9, 3711.1, 95.2, 2.6, 43710]\n",
      "['Food preparation and serving related occupations', '35-0000', 13761.3, 14769.7, 1008.4, 7.3, 25500]\n",
      "['Building and grounds cleaning and maintenance occupations', '37-0000', 5664, 5943.4, 279.5, 4.9, 29940]\n",
      "['Personal care and service occupations', '39-0000', 4724.1, 5088.4, 364.3, 7.7, 28120]\n",
      "['Sales and related occupations', '41-0000', 15525.3, 15222, -303.4, -2, 31500]\n",
      "['Office and administrative support occupations', '43-0000', 20633, 19673.3, -959.7, -4.7, 38720]\n",
      "['Farming, fishing, and forestry occupations', '45-0000', 1116.6, 1115.1, -1.5, -0.1, 29670]\n",
      "['Construction and extraction occupations', '47-0000', 7349.1, 7645.4, 296.3, 4, 48610]\n",
      "['Installation, maintenance, and repair occupations', '49-0000', 6128, 6301.3, 173.3, 2.8, 48750]\n",
      "['Production occupations', '51-0000', 9447, 9023.8, -423.2, -4.5, 37440]\n",
      "['Transportation and material moving occupations', '53-0000', 13134.8, 13583.6, 448.9, 3.4, 34080]\n",
      "['Footnotes:', None, None, None, None, None, None]\n",
      "['(1) Data are from the Occupational Employment Statistics program, U.S. Bureau of Labor Statistics. Wage data cover non-farm wage and salary workers and do not cover the self-employed, owners and partners in unincorporated firms, or household workers.', None, None, None, None, None, None]\n",
      "['Note: Data is unavailable for values denoted with a \"—\".', None, None, None, None, None, None]\n",
      "['Source: Employment Projections program, U.S. Bureau of Labor Statistics', None, None, None, None, None, None]\n"
     ]
    }
   ],
   "source": [
    "processTable(table_1_2)"
   ]
  },
  {
   "cell_type": "code",
   "execution_count": null,
   "metadata": {},
   "outputs": [],
   "source": [
    "def extract_employment_data(sheet):\n",
    "    data = []\n",
    "    for row in sheet.iter_rows(min_row=1, max_row=sheet.max_row, min_col=1, max_col=sheet.max_column):\n",
    "        row_values = [cell.value for cell in row]\n",
    "        # Skip metadata rows\n",
    "        if (\n",
    "            not row_values[0] or  # Skip rows with no label\n",
    "            row_values[0].startswith(\"Table\") or  # Skip title row\n",
    "            #row_values[0] == \"Educational attainment\" or  # Skip header row\n",
    "            row_values[0].startswith(\"Note:\") or  # Skip notes\n",
    "            row_values[0].startswith(\"Source:\")  # Skip source\n",
    "        ):\n",
    "            continue\n",
    "        # Ensure all data rows have meaningful values\n",
    "        if row_values[1] is not None:\n",
    "            data.append(row_values)\n",
    "    return data\n",
    "\n",
    "# Extract relevant data\n",
    "processed_data = extract_employment_data(table_5_1)\n",
    "\n",
    "# Remove \"Total, all occupations\"\n",
    "filtered_data = [row for row in processed_data if row[0] != \"Total\"]"
   ]
  },
  {
   "cell_type": "code",
   "execution_count": null,
   "metadata": {},
   "outputs": [],
   "source": []
  },
  {
   "cell_type": "code",
   "execution_count": null,
   "metadata": {},
   "outputs": [],
   "source": []
  },
  {
   "cell_type": "code",
   "execution_count": null,
   "metadata": {},
   "outputs": [],
   "source": []
  },
  {
   "cell_type": "code",
   "execution_count": null,
   "metadata": {},
   "outputs": [],
   "source": []
  },
  {
   "cell_type": "code",
   "execution_count": null,
   "metadata": {},
   "outputs": [],
   "source": []
  },
  {
   "cell_type": "code",
   "execution_count": null,
   "metadata": {},
   "outputs": [],
   "source": []
  },
  {
   "cell_type": "code",
   "execution_count": null,
   "metadata": {},
   "outputs": [],
   "source": []
  },
  {
   "cell_type": "code",
   "execution_count": null,
   "metadata": {},
   "outputs": [],
   "source": []
  },
  {
   "cell_type": "code",
   "execution_count": null,
   "metadata": {},
   "outputs": [],
   "source": []
  }
 ],
 "metadata": {
  "kernelspec": {
   "display_name": "Python 3",
   "language": "python",
   "name": "python3"
  },
  "language_info": {
   "codemirror_mode": {
    "name": "ipython",
    "version": 3
   },
   "file_extension": ".py",
   "mimetype": "text/x-python",
   "name": "python",
   "nbconvert_exporter": "python",
   "pygments_lexer": "ipython3",
   "version": "3.11.0"
  }
 },
 "nbformat": 4,
 "nbformat_minor": 2
}
