{
 "cells": [
  {
   "cell_type": "code",
   "execution_count": 2,
   "metadata": {},
   "outputs": [],
   "source": [
    "import sys\n",
    "sys.path.append('/path/to/ProjectFileGroup4')"
   ]
  },
  {
   "cell_type": "code",
   "execution_count": 4,
   "metadata": {},
   "outputs": [],
   "source": [
    "from dash import Dash, html, dcc, callback, Output, Input\n",
    "import pandas as pd\n",
    "import plotly.io as pio\n",
    "import matplotlib.pyplot as plt\n",
    "import nbimporter\n",
    "\n",
    "import DataProcessing.dataprocessing as dp\n",
    "\n",
    "# Function to get and clean dataframes\n",
    "def get_dataframes():\n",
    "    file_path = \"Datasets/2019-29/education.xlsx\"\n",
    "    file_path2 = \"Datasets/2023-33/education.xlsx\"\n",
    "    file_path3 = \"Datasets/2019-29/occupation.xlsx\"\n",
    "    dataframes = dp.process_and_clean_data(file_path, file_path2, file_path3)\n",
    "    return dataframes\n",
    "\n",
    "# Load data\n",
    "dataframes = get_dataframes()\n",
    "\n",
    "# Dash app setup\n"
   ]
  },
  {
   "cell_type": "code",
   "execution_count": null,
   "metadata": {},
   "outputs": [],
   "source": [
    "app = Dash()\n",
    "\n",
    "app.layout = html.Div([\n",
    "    html.H1(children='Title of Dash App from Naman', style={'textAlign': 'center'}),\n",
    "    dcc.Dropdown(\n",
    "        id='dropdown-selection',\n",
    "        options=[\n",
    "            {'label': 'Correlation Matrix for 1929 Data', 'value': 'education_53_1929'},\n",
    "        ],\n",
    "        value='education_53_1929',\n",
    "        style={'width': '50%', 'margin': 'auto'}\n",
    "    ),\n",
    "    dcc.Graph(id='graph-content')\n",
    "])\n",
    "\n",
    "@callback(\n",
    "    Output('graph-content', 'figure'),\n",
    "    Input('dropdown-selection', 'value')\n",
    ")\n",
    "def update_graph(value):\n",
    "    # Generate Matplotlib figure\n",
    "    fig = graph.generate_correlation_heatmap(dataframes[value])\n",
    "\n",
    "    # Convert Matplotlib figure to Plotly figure\n",
    "    plotly_fig = pio.to_json(fig)\n",
    "\n",
    "    return plotly_fig\n",
    "\n",
    "if __name__ == '__main__':\n",
    "    app.run(debug=True)"
   ]
  }
 ],
 "metadata": {
  "kernelspec": {
   "display_name": "new_env",
   "language": "python",
   "name": "python3"
  },
  "language_info": {
   "codemirror_mode": {
    "name": "ipython",
    "version": 3
   },
   "file_extension": ".py",
   "mimetype": "text/x-python",
   "name": "python",
   "nbconvert_exporter": "python",
   "pygments_lexer": "ipython3",
   "version": "3.12.4"
  }
 },
 "nbformat": 4,
 "nbformat_minor": 2
}
