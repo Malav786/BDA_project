{
 "cells": [
  {
   "cell_type": "code",
   "outputs": [
    {
     "name": "stdout",
     "output_type": "stream",
     "text": [
      "/Users/naman/.zshenv:1: command not found: Export\r\n",
      "Collecting linkedin_api\r\n",
      "  Downloading linkedin_api-2.3.1-py3-none-any.whl.metadata (14 kB)\r\n",
      "Requirement already satisfied: beautifulsoup4<5.0.0,>=4.12.3 in /opt/anaconda3/envs/new_env/lib/python3.12/site-packages (from linkedin_api) (4.12.3)\r\n",
      "Requirement already satisfied: lxml<6.0.0,>=5.3.0 in /opt/anaconda3/envs/new_env/lib/python3.12/site-packages (from linkedin_api) (5.3.0)\r\n",
      "Requirement already satisfied: requests<3.0.0,>=2.32.3 in /opt/anaconda3/envs/new_env/lib/python3.12/site-packages (from linkedin_api) (2.32.3)\r\n",
      "Requirement already satisfied: soupsieve>1.2 in /opt/anaconda3/envs/new_env/lib/python3.12/site-packages (from beautifulsoup4<5.0.0,>=4.12.3->linkedin_api) (2.6)\r\n",
      "Requirement already satisfied: charset-normalizer<4,>=2 in /opt/anaconda3/envs/new_env/lib/python3.12/site-packages (from requests<3.0.0,>=2.32.3->linkedin_api) (3.4.0)\r\n",
      "Requirement already satisfied: idna<4,>=2.5 in /opt/anaconda3/envs/new_env/lib/python3.12/site-packages (from requests<3.0.0,>=2.32.3->linkedin_api) (3.10)\r\n",
      "Requirement already satisfied: urllib3<3,>=1.21.1 in /opt/anaconda3/envs/new_env/lib/python3.12/site-packages (from requests<3.0.0,>=2.32.3->linkedin_api) (2.2.3)\r\n",
      "Requirement already satisfied: certifi>=2017.4.17 in /opt/anaconda3/envs/new_env/lib/python3.12/site-packages (from requests<3.0.0,>=2.32.3->linkedin_api) (2024.8.30)\r\n",
      "Downloading linkedin_api-2.3.1-py3-none-any.whl (26 kB)\r\n",
      "Installing collected packages: linkedin_api\r\n",
      "Successfully installed linkedin_api-2.3.1\r\n"
     ]
    }
   ],
   "source": [
    "!pip install linkedin_api"
   ],
   "metadata": {
    "collapsed": false,
    "ExecuteTime": {
     "end_time": "2024-12-11T07:20:43.698148Z",
     "start_time": "2024-12-11T07:20:42.128952Z"
    }
   },
   "execution_count": 1
  },
  {
   "cell_type": "code",
   "outputs": [],
   "source": [
    "from linkedin_api import Linkedin\n",
    "\n",
    "\n",
    "class LinkedInProfileFetcher:\n",
    "    \"\"\"\n",
    "    A class to interact with the LinkedIn API to fetch user profiles.\n",
    "    \"\"\"\n",
    "\n",
    "    def __init__(self, email, password):\n",
    "        \"\"\"\n",
    "        Initializes the LinkedInProfileFetcher with email and password.\n",
    "        \"\"\"\n",
    "        self.email = email\n",
    "        self.password = password\n",
    "        try:\n",
    "            self.api = Linkedin(self.email, self.password)\n",
    "            print(\"Successfully logged in to LinkedIn.\")\n",
    "        except Exception as e:\n",
    "            print(f\"Error in initializing LinkedIn API: {e}\")\n",
    "            self.api = None\n",
    "\n",
    "    def get_profile(self, profile_id):\n",
    "        \"\"\"\n",
    "        Fetches the LinkedIn profile for the given profile ID.\n",
    "        \"\"\"\n",
    "        if not self.api:\n",
    "            raise ValueError(\"You must log in first.\")\n",
    "        try:\n",
    "            profile = self.api.get_profile(profile_id)\n",
    "            print(\"Profile fetched successfully.\")\n",
    "            return profile\n",
    "        except Exception as e:\n",
    "            print(f\"Error in fetching profile: {e}\")\n",
    "            return None\n"
   ],
   "metadata": {
    "collapsed": false,
    "ExecuteTime": {
     "end_time": "2024-12-11T07:25:09.244435Z",
     "start_time": "2024-12-11T07:25:09.239478Z"
    }
   },
   "execution_count": 7
  },
  {
   "cell_type": "code",
   "outputs": [
    {
     "name": "stdout",
     "output_type": "stream",
     "text": [
      "Error in initializing LinkedIn API: CHALLENGE\n"
     ]
    },
    {
     "ename": "ValueError",
     "evalue": "You must log in first.",
     "output_type": "error",
     "traceback": [
      "\u001B[0;31m---------------------------------------------------------------------------\u001B[0m",
      "\u001B[0;31mValueError\u001B[0m                                Traceback (most recent call last)",
      "Cell \u001B[0;32mIn[8], line 12\u001B[0m\n\u001B[1;32m     10\u001B[0m \u001B[38;5;66;03m# Test fetching a profile\u001B[39;00m\n\u001B[1;32m     11\u001B[0m PROFILE_ID \u001B[38;5;241m=\u001B[39m \u001B[38;5;124m\"\u001B[39m\u001B[38;5;124mexample_profile_id\u001B[39m\u001B[38;5;124m\"\u001B[39m  \u001B[38;5;66;03m# Replace with a valid LinkedIn profile ID\u001B[39;00m\n\u001B[0;32m---> 12\u001B[0m profile_data \u001B[38;5;241m=\u001B[39m \u001B[43mfetcher\u001B[49m\u001B[38;5;241;43m.\u001B[39;49m\u001B[43mget_profile\u001B[49m\u001B[43m(\u001B[49m\u001B[43mPROFILE_ID\u001B[49m\u001B[43m)\u001B[49m\n\u001B[1;32m     14\u001B[0m \u001B[38;5;66;03m# Display the fetched data\u001B[39;00m\n\u001B[1;32m     15\u001B[0m \u001B[38;5;28mprint\u001B[39m(profile_data)\n",
      "Cell \u001B[0;32mIn[7], line 27\u001B[0m, in \u001B[0;36mLinkedInProfileFetcher.get_profile\u001B[0;34m(self, profile_id)\u001B[0m\n\u001B[1;32m     23\u001B[0m \u001B[38;5;250m\u001B[39m\u001B[38;5;124;03m\"\"\"\u001B[39;00m\n\u001B[1;32m     24\u001B[0m \u001B[38;5;124;03mFetches the LinkedIn profile for the given profile ID.\u001B[39;00m\n\u001B[1;32m     25\u001B[0m \u001B[38;5;124;03m\"\"\"\u001B[39;00m\n\u001B[1;32m     26\u001B[0m \u001B[38;5;28;01mif\u001B[39;00m \u001B[38;5;129;01mnot\u001B[39;00m \u001B[38;5;28mself\u001B[39m\u001B[38;5;241m.\u001B[39mapi:\n\u001B[0;32m---> 27\u001B[0m     \u001B[38;5;28;01mraise\u001B[39;00m \u001B[38;5;167;01mValueError\u001B[39;00m(\u001B[38;5;124m\"\u001B[39m\u001B[38;5;124mYou must log in first.\u001B[39m\u001B[38;5;124m\"\u001B[39m)\n\u001B[1;32m     28\u001B[0m \u001B[38;5;28;01mtry\u001B[39;00m:\n\u001B[1;32m     29\u001B[0m     profile \u001B[38;5;241m=\u001B[39m \u001B[38;5;28mself\u001B[39m\u001B[38;5;241m.\u001B[39mapi\u001B[38;5;241m.\u001B[39mget_profile(profile_id)\n",
      "\u001B[0;31mValueError\u001B[0m: You must log in first."
     ]
    }
   ],
   "source": [
    "import os\n",
    "\n",
    "# Replace these with your LinkedIn credentials or fetch from environment variables\n",
    "EMAIL = \"your_email@example.com\"\n",
    "PASSWORD = \"your_password\"\n",
    "\n",
    "# Create an instance of LinkedInProfileFetcher\n",
    "fetcher = LinkedInProfileFetcher(email=EMAIL, password=PASSWORD)\n",
    "\n",
    "# Test fetching a profile\n",
    "PROFILE_ID = \"example_profile_id\"  # Replace with a valid LinkedIn profile ID\n",
    "profile_data = fetcher.get_profile(PROFILE_ID)\n",
    "\n",
    "# Display the fetched data\n",
    "print(profile_data)\n"
   ],
   "metadata": {
    "collapsed": false,
    "ExecuteTime": {
     "end_time": "2024-12-11T07:25:15.523651Z",
     "start_time": "2024-12-11T07:25:15.049222Z"
    }
   },
   "execution_count": 8
  },
  {
   "cell_type": "code",
   "outputs": [
    {
     "data": {
      "text/plain": "<module 'linkedIn' from '/Users/naman/Desktop/SEM-3 PDFS/GITCLONE/BDA_project/project_data/project_data/linkedIn.py'>"
     },
     "execution_count": 6,
     "metadata": {},
     "output_type": "execute_result"
    }
   ],
   "source": [],
   "metadata": {
    "collapsed": false,
    "ExecuteTime": {
     "end_time": "2024-12-11T07:22:05.618660Z",
     "start_time": "2024-12-11T07:22:05.614002Z"
    }
   },
   "execution_count": 6
  },
  {
   "cell_type": "code",
   "outputs": [],
   "source": [],
   "metadata": {
    "collapsed": false
   }
  },
  {
   "cell_type": "code",
   "execution_count": 2,
   "metadata": {},
   "outputs": [],
   "source": [
    "import sys\n",
    "sys.path.append('/path/to/ProjectFileGroup4')"
   ]
  },
  {
   "cell_type": "code",
   "execution_count": 4,
   "metadata": {},
   "outputs": [],
   "source": [
    "from dash import Dash, html, dcc, callback, Output, Input\n",
    "import pandas as pd\n",
    "import plotly.io as pio\n",
    "import matplotlib.pyplot as plt\n",
    "import nbimporter\n",
    "\n",
    "import DataProcessing.dataprocessing as dp\n",
    "\n",
    "# Function to get and clean dataframes\n",
    "def get_dataframes():\n",
    "    file_path = \"Datasets/2019-29/education.xlsx\"\n",
    "    file_path2 = \"Datasets/2023-33/education.xlsx\"\n",
    "    file_path3 = \"Datasets/2019-29/occupation.xlsx\"\n",
    "    dataframes = dp.process_and_clean_data(file_path, file_path2, file_path3)\n",
    "    return dataframes\n",
    "\n",
    "# Load data\n",
    "dataframes = get_dataframes()\n",
    "\n",
    "# Dash app setup\n"
   ]
  },
  {
   "cell_type": "code",
   "execution_count": null,
   "metadata": {},
   "outputs": [],
   "source": [
    "app = Dash()\n",
    "\n",
    "app.layout = html.Div([\n",
    "    html.H1(children='Title of Dash App from Naman', style={'textAlign': 'center'}),\n",
    "    dcc.Dropdown(\n",
    "        id='dropdown-selection',\n",
    "        options=[\n",
    "            {'label': 'Correlation Matrix for 1929 Data', 'value': 'education_53_1929'},\n",
    "        ],\n",
    "        value='education_53_1929',\n",
    "        style={'width': '50%', 'margin': 'auto'}\n",
    "    ),\n",
    "    dcc.Graph(id='graph-content')\n",
    "])\n",
    "\n",
    "@callback(\n",
    "    Output('graph-content', 'figure'),\n",
    "    Input('dropdown-selection', 'value')\n",
    ")\n",
    "def update_graph(value):\n",
    "    # Generate Matplotlib figure\n",
    "    fig = graph.generate_correlation_heatmap(dataframes[value])\n",
    "\n",
    "    # Convert Matplotlib figure to Plotly figure\n",
    "    plotly_fig = pio.to_json(fig)\n",
    "\n",
    "    return plotly_fig\n",
    "\n",
    "if __name__ == '__main__':\n",
    "    app.run(debug=True)"
   ]
  }
 ],
 "metadata": {
  "kernelspec": {
   "display_name": "new_env",
   "language": "python",
   "name": "python3"
  },
  "language_info": {
   "codemirror_mode": {
    "name": "ipython",
    "version": 3
   },
   "file_extension": ".py",
   "mimetype": "text/x-python",
   "name": "python",
   "nbconvert_exporter": "python",
   "pygments_lexer": "ipython3",
   "version": "3.12.4"
  }
 },
 "nbformat": 4,
 "nbformat_minor": 2
}
