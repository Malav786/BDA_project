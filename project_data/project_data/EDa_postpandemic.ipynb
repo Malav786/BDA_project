{
 "cells": [
  {
   "cell_type": "code",
   "execution_count": null,
   "metadata": {},
   "outputs": [],
   "source": [
    "import pandas as pd\n",
    "import os\n",
    "import openpyxl\n",
    "import matplotlib.pyplot as plt"
   ]
  },
  {
   "cell_type": "code",
   "execution_count": null,
   "metadata": {},
   "outputs": [],
   "source": [
    "from dataprocessing import process_and_clean_data\n",
    "dataframes = process_and_clean_data()"
   ]
  },
  {
   "cell_type": "code",
   "execution_count": null,
   "metadata": {},
   "outputs": [],
   "source": [
    "table_5_1 = dataframes[\"education_51_2333\"]\n",
    "table_5_2 = dataframes[\"education_52_2333\"]\n",
    "table_5_3 = dataframes[\"education_53_2333\"]\n",
    "table_5_4 = dataframes[\"education_54_2333\"]"
   ]
  },
  {
   "cell_type": "code",
   "execution_count": null,
   "metadata": {},
   "outputs": [],
   "source": [
    "table_5_1.info()"
   ]
  },
  {
   "cell_type": "code",
   "execution_count": null,
   "metadata": {},
   "outputs": [],
   "source": [
    "# file_path2 = \"2023-33/education.xlsx\"\n",
    "# # Postpandemic workbook\n",
    "# post_pandemic_data = openpyxl.load_workbook(file_path2)"
   ]
  },
  {
   "cell_type": "code",
   "execution_count": null,
   "metadata": {},
   "outputs": [],
   "source": [
    "# table_5_1 = post_pandemic_data[\"Table 5.1\"]\n",
    "# table_5_2 = post_pandemic_data[\"Table 5.2\"]\n",
    "# table_5_3 = post_pandemic_data[\"Table 5.3\"]\n",
    "# table_5_4 = post_pandemic_data[\"Table 5.4\"]"
   ]
  },
  {
   "cell_type": "code",
   "execution_count": null,
   "metadata": {},
   "outputs": [],
   "source": [
    "# The code provided defines two functions:\n",
    "# # # Function to get and display column names\n",
    "# # def get_column_names(df):\n",
    "# #     print(\"Column Names:\")\n",
    "# #     column_names = df.columns.tolist()\n",
    "# #     print(column_names)\n",
    "# #     return column_names\n",
    "\n",
    "# # # Function to get and display rows of a specific column\n",
    "# # def get_specific_column_rows(df, column_name, num_rows=5):\n",
    "# #     if column_name not in df.columns:\n",
    "# #         print(f\"Error: Column '{column_name}' not found in the DataFrame.\")\n",
    "# #         return\n",
    "# #     print(f\"\\nRows for Column '{column_name}':\")\n",
    "# #     print(df[column_name].head(num_rows))\n"
   ]
  },
  {
   "cell_type": "code",
   "execution_count": null,
   "metadata": {},
   "outputs": [],
   "source": [
    "# def preprocess_table_and_title(df):\n",
    "#     # Extract the title from the first row\n",
    "#     table_title = df.iloc[0,0]  # Assuming the title is in the first cell\n",
    "#     print(f\"Table Title: {table_title}\")\n",
    "    \n",
    "#     # Set the second row as column headers\n",
    "#     df.columns = df.iloc[1]  # Use the second row as column headers\n",
    "#     df = df[2:].reset_index(drop=True)  # Drop the first two rows\n",
    "#     return table_title, df\n",
    "\n",
    "# # Preprocess the tables (if necessary)\n",
    "# table_5_1 = preprocess_table_and_title(table_5_1)"
   ]
  },
  {
   "cell_type": "code",
   "execution_count": null,
   "metadata": {},
   "outputs": [],
   "source": [
    "def processTable(df):\n",
    "    # Output the title, assuming the title is in the first row of the DataFrame\n",
    "    table_title = df.iloc[0, 0]  # First cell in the DataFrame\n",
    "    print(f\"Table Title: {table_title}\")\n",
    "    \n",
    "    # Output the column names\n",
    "    column_names = df.columns.tolist()\n",
    "    print(\"Column Names:\")\n",
    "    print(column_names)\n",
    "    \n",
    "    # Output the data starting from the third row\n",
    "    print(\"\\nRow Data:\")\n",
    "    for index, row in df.iterrows():\n",
    "        row_values = row.tolist()\n",
    "        print(row_values)\n",
    "\n",
    "# Process Table 5.1\n",
    "processTable(table_5_1)\n"
   ]
  },
  {
   "cell_type": "code",
   "execution_count": null,
   "metadata": {},
   "outputs": [],
   "source": [
    "table_5_1"
   ]
  },
  {
   "cell_type": "code",
   "execution_count": null,
   "metadata": {},
   "outputs": [],
   "source": [
    "import seaborn as sns\n",
    "\n",
    "columns = table_5_1.columns  # The first row contains column names\n",
    "data = table_5_1[1:]    # The remaining rows are the actual data\n",
    "\n",
    "df_table_5_1 = pd.DataFrame(data, columns=columns)\n",
    "\n",
    "sns.set(style=\"whitegrid\")\n",
    "\n",
    "education = df_table_5_1['Educational attainment']\n",
    "unemployment_rate = df_table_5_1['Unemployment rate (%)']\n",
    "\n",
    "# Create the plot\n",
    "plt.figure(figsize=(10, 6))\n",
    "plt.barh(education, unemployment_rate, color='skyblue')\n",
    "\n",
    "# Add title and labels\n",
    "plt.title(\"Unemployment Rates by Educational Attainment (2023)\", fontsize=16)\n",
    "plt.xlabel(\"Unemployment Rate (%)\", fontsize=12)\n",
    "plt.ylabel(\"Educational Attainment\", fontsize=12)\n",
    "\n",
    "# Show the plot\n",
    "plt.tight_layout()\n",
    "plt.show()\n"
   ]
  },
  {
   "cell_type": "code",
   "execution_count": null,
   "metadata": {},
   "outputs": [],
   "source": [
    "df_table_5_1 = pd.DataFrame(data, columns=columns)\n",
    "\n",
    "sns.set(style=\"whitegrid\")\n",
    "\n",
    "education = df_table_5_1['Educational attainment']\n",
    "unemployment_rate = df_table_5_1['Median usual weekly earnings ($)']\n",
    "\n",
    "# Create the plot\n",
    "plt.figure(figsize=(10, 6))\n",
    "plt.barh(education, unemployment_rate, color='skyblue')\n",
    "\n",
    "# Add title and labels\n",
    "plt.title(\"Median usual weekly earnings ($) by Educational Attainment (2023)\", fontsize=16)\n",
    "plt.xlabel(\"Median usual weekly earnings ($)\", fontsize=12)\n",
    "plt.ylabel(\"Educational Attainment\", fontsize=12)\n",
    "\n",
    "# Show the plot\n",
    "plt.tight_layout()\n",
    "plt.show()"
   ]
  },
  {
   "cell_type": "code",
   "execution_count": null,
   "metadata": {},
   "outputs": [],
   "source": [
    "processTable(table_5_2)"
   ]
  },
  {
   "cell_type": "code",
   "execution_count": null,
   "metadata": {},
   "outputs": [],
   "source": [
    "# def extract_table5_2_data(sheet):\n",
    "#     data = []\n",
    "#     for row in sheet.iter_rows(min_row=1, max_row=sheet.max_row, min_col=1, max_col=sheet.max_column):\n",
    "#         row_values = [cell.value for cell in row]\n",
    "#         # Skip metadata rows\n",
    "#         if (\n",
    "#             not row_values[0] or  # Skip rows with no label\n",
    "#             row_values[0].startswith(\"Table\") or  # Skip title row\n",
    "#             row_values[0] in (\"Footnotes:\", \"[1]\") or  # Skip footnote rows\n",
    "#             row_values[0].startswith(\"Note:\") or  # Skip notes\n",
    "#             row_values[0].startswith(\"Source:\")  # Skip source\n",
    "#         ):\n",
    "#             continue\n",
    "#         # Ensure all data rows have meaningful values\n",
    "#         if row_values[1] is not None:\n",
    "#             data.append(row_values)\n",
    "#     return data\n",
    "\n",
    "# # Extract relevant data\n",
    "# processed_data2 = extract_table5_2_data(table_5_2)\n",
    "\n",
    "# # Remove \"Total, all occupations\"\n",
    "# filtered_data2 = [row for row in processed_data2 if row[0] != \"Total, all occupations\"]"
   ]
  },
  {
   "cell_type": "code",
   "execution_count": null,
   "metadata": {},
   "outputs": [],
   "source": [
    "columns2 = table_5_2.columns  # The first row contains column names\n",
    "data2 = table_5_2[1:]    # The remaining rows are the actual data\n",
    "\n",
    "df_table_5_2 = pd.DataFrame(data2, columns=columns2)\n"
   ]
  },
  {
   "cell_type": "code",
   "execution_count": null,
   "metadata": {},
   "outputs": [],
   "source": [
    "df_table_5_2"
   ]
  },
  {
   "cell_type": "code",
   "execution_count": null,
   "metadata": {},
   "outputs": [],
   "source": [
    "import seaborn as sns\n",
    "\n",
    "sns.set(style=\"whitegrid\")\n",
    "\n",
    "education = df_table_5_2['Typical entry-level education']\n",
    "empl_distb_2023 = df_table_5_2['Employment distribution, percent, 2023']\n",
    "\n",
    "# Create the plot\n",
    "plt.figure(figsize=(10, 6))\n",
    "plt.barh(education, empl_distb_2023, color='coral')\n",
    "\n",
    "# Add title and labels\n",
    "plt.title(\"Employment Distribution by Education Level in 2023\", fontsize=16)\n",
    "plt.xlabel(\"Education Levels\", fontsize=12)\n",
    "plt.ylabel(\"Employment Distribution (%)\", fontsize=12)\n",
    "\n",
    "# Show the plot\n",
    "plt.tight_layout()\n",
    "plt.show()"
   ]
  },
  {
   "cell_type": "code",
   "execution_count": null,
   "metadata": {},
   "outputs": [],
   "source": [
    "import seaborn as sns\n",
    "\n",
    "sns.set(style=\"whitegrid\")\n",
    "\n",
    "education = df_table_5_2['Typical entry-level education']\n",
    "empl_distb_2033 = df_table_5_2['Employment distribution, percent, 2033']\n",
    "\n",
    "# Create the plot\n",
    "plt.figure(figsize=(10, 6))\n",
    "plt.barh(education, empl_distb_2033, color='green')\n",
    "\n",
    "# Add title and labels\n",
    "plt.title(\"Estimated Employment Distribution by Education Level in 2033\", fontsize=16)\n",
    "plt.xlabel(\"Education Levels\", fontsize=12)\n",
    "plt.ylabel(\"Estimated Employment Distribution (%)\", fontsize=12)\n",
    "\n",
    "# Show the plot\n",
    "plt.tight_layout()\n",
    "plt.show()"
   ]
  },
  {
   "cell_type": "code",
   "execution_count": null,
   "metadata": {},
   "outputs": [],
   "source": [
    "import seaborn as sns\n",
    "\n",
    "sns.set(style=\"darkgrid\")\n",
    "\n",
    "education = df_table_5_2['Typical entry-level education']\n",
    "empl_change = df_table_5_2['Percent employment change, 2023-33']\n",
    "\n",
    "# Create the plot\n",
    "plt.figure(figsize=(10, 6))\n",
    "plt.barh(education, empl_change, color='blue')\n",
    "\n",
    "# Add title and labels\n",
    "plt.title(\"Employment Change by Education Level (2023-33)\", fontsize=16)\n",
    "plt.ylabel(\"Education Levels\", fontsize=12)\n",
    "plt.xlabel(\"Employment Change (%)\", fontsize=12)\n",
    "\n",
    "# Show the plot\n",
    "plt.tight_layout()\n",
    "plt.show()"
   ]
  },
  {
   "cell_type": "code",
   "execution_count": null,
   "metadata": {},
   "outputs": [],
   "source": [
    "import seaborn as sns\n",
    "\n",
    "sns.set(style=\"darkgrid\")\n",
    "\n",
    "education = df_table_5_2['Typical entry-level education']\n",
    "empl_change = df_table_5_2['Median annual wage, dollars, 2023[1]']\n",
    "\n",
    "# Create the plot\n",
    "plt.figure(figsize=(10, 6))\n",
    "plt.barh(education, empl_change, color='purple')\n",
    "\n",
    "# Add title and labels\n",
    "plt.title(\"Median Annual Wage by Education Level (2023)\", fontsize=16)\n",
    "plt.ylabel(\"Education Levels\", fontsize=12)\n",
    "plt.xlabel(\"Median Annual Wage (USD)\", fontsize=12)\n",
    "\n",
    "# Show the plot\n",
    "plt.tight_layout()\n",
    "plt.show()"
   ]
  },
  {
   "cell_type": "code",
   "execution_count": null,
   "metadata": {},
   "outputs": [],
   "source": [
    "processTable(table_5_3)"
   ]
  },
  {
   "cell_type": "code",
   "execution_count": null,
   "metadata": {},
   "outputs": [],
   "source": [
    "table_5_3"
   ]
  },
  {
   "cell_type": "code",
   "execution_count": null,
   "metadata": {},
   "outputs": [],
   "source": [
    "def extract_total_occupation_data(df):\n",
    "    \"\"\"\n",
    "    Extracts the row corresponding to \"Total, all occupations\" and returns the relevant data.\n",
    "\n",
    "    Parameters:\n",
    "        df (DataFrame): Pandas DataFrame containing the data.\n",
    "\n",
    "    Returns:\n",
    "        list: Row data starting from the 3rd column (index 2).\n",
    "    \"\"\"\n",
    "    # Locate the row with \"Total, all occupations\" in the first column\n",
    "    row = df[df.iloc[:, 0] == \"Total, all occupations\"]\n",
    "    if not row.empty:\n",
    "        # Return the values starting from the 3rd column (index 2)\n",
    "        return row.iloc[0, 2:].tolist()\n",
    "    else:\n",
    "        print('\"Total, all occupations\" not found in the DataFrame.')\n",
    "        return None\n",
    "\n",
    "# Extracting data\n",
    "total_occupation_data = extract_total_occupation_data(table_5_3)\n",
    "\n",
    "# Education levels corresponding to the data\n",
    "education_levels = [\n",
    "    \"Less than high school diploma\",\n",
    "    \"High school diploma or equivalent\",\n",
    "    \"Some college, no degree\",\n",
    "    \"Associate's degree\",\n",
    "    \"Bachelor's degree\",\n",
    "    \"Master's degree\",\n",
    "    \"Doctoral or professional degree\",\n",
    "]\n",
    "\n",
    "# Print the result\n",
    "print(\"Total Occupation Data:\", total_occupation_data)\n"
   ]
  },
  {
   "cell_type": "code",
   "execution_count": null,
   "metadata": {},
   "outputs": [],
   "source": [
    "print(f\"Length of education_levels: {len(education_levels)}\")\n",
    "print(f\"Length of total_occupation_data: {len(total_occupation_data)}\")\n"
   ]
  },
  {
   "cell_type": "code",
   "execution_count": null,
   "metadata": {},
   "outputs": [],
   "source": [
    "total_occupation_data = total_occupation_data[:len(education_levels)]\n"
   ]
  },
  {
   "cell_type": "code",
   "execution_count": null,
   "metadata": {},
   "outputs": [],
   "source": [
    "plt.figure(figsize=(12, 6))\n",
    "plt.bar(education_levels, total_occupation_data, color='blue', edgecolor='black')\n",
    "plt.title(\"Educational Attainment Distribution Percentage (Total, All Occupations, 2023)\", fontsize=16)\n",
    "plt.xlabel(\"Education Level\", fontsize=14)\n",
    "plt.ylabel(\"Percentage of Workers\", fontsize=14)\n",
    "plt.xticks(rotation=90, ha='right', fontsize=12)\n",
    "plt.grid(axis='y', linestyle='--', alpha=0.8)\n",
    "plt.tight_layout()\n",
    "plt.show()"
   ]
  },
  {
   "cell_type": "code",
   "execution_count": null,
   "metadata": {},
   "outputs": [],
   "source": [
    "processTable(table_5_4)"
   ]
  },
  {
   "cell_type": "code",
   "execution_count": null,
   "metadata": {},
   "outputs": [],
   "source": []
  },
  {
   "cell_type": "code",
   "execution_count": null,
   "metadata": {},
   "outputs": [],
   "source": [
    "# def extract_table5_4_data_(sheet):\n",
    "#     data = []\n",
    "#     for row in sheet.iter_rows(min_row=1, max_row=sheet.max_row, min_col=1, max_col=sheet.max_column):\n",
    "#         row_values = [cell.value for cell in row]\n",
    "#         # Skip metadata rows\n",
    "#         if (\n",
    "#             not row_values[0] or  # Skip rows with no label\n",
    "#             row_values[0].startswith(\"Table\") or  # Skip title row\n",
    "#             row_values[0] in (\"Footnotes:\", \"[1]\") or  # Skip footnote rows\n",
    "#             row_values[0].startswith(\"Note:\") or  # Skip notes\n",
    "#             row_values[0].startswith(\"Source:\")  # Skip source\n",
    "#         ):\n",
    "#             continue\n",
    "#         # Ensure all data rows have meaningful values\n",
    "#         if row_values[1] is not None:\n",
    "#             data.append(row_values)\n",
    "#     return data\n",
    "\n",
    "# # Extract relevant data\n",
    "# data_table_5_4 = extract_table5_4_data_(table_5_4)"
   ]
  },
  {
   "cell_type": "code",
   "execution_count": null,
   "metadata": {},
   "outputs": [],
   "source": [
    "columns4 = table_5_4.columns  # The first row contains column names\n",
    "data4 = table_5_4[1:]    # The remaining rows are the actual data\n",
    "\n",
    "df_table_5_4 = pd.DataFrame(data4, columns=columns4)\n"
   ]
  },
  {
   "cell_type": "code",
   "execution_count": null,
   "metadata": {},
   "outputs": [],
   "source": [
    "df_table_5_4"
   ]
  },
  {
   "cell_type": "code",
   "execution_count": null,
   "metadata": {},
   "outputs": [],
   "source": [
    "df_table_5_4.drop('xlsx_ooh_link', axis=1)\n",
    "df_table_5_4.drop('2023 National Employment Matrix code', axis=1)"
   ]
  },
  {
   "cell_type": "code",
   "execution_count": null,
   "metadata": {},
   "outputs": [],
   "source": [
    "education_levels = [\n",
    "    \"No formal educational credential\",\n",
    "    \"High school diploma or equivalent\",\n",
    "    \"Some college, no degree\",\n",
    "    \"Associate's degree\",\n",
    "    \"Bachelor's degree\",\n",
    "    \"Master's degree\",\n",
    "    \"Doctoral or professional degree\",\n",
    "]\n",
    "education_counts = df_table_5_4['Typical education needed for entry'].value_counts()"
   ]
  },
  {
   "cell_type": "code",
   "execution_count": null,
   "metadata": {},
   "outputs": [],
   "source": [
    "education_counts = education_counts.reindex(education_levels, fill_value=0)\n",
    "\n",
    "# Plotting the distribution\n",
    "sns.set(style=\"whitegrid\")\n",
    "plt.figure(figsize=(10, 6))\n",
    "\n",
    "# Barplot for the education level distribution\n",
    "plt.bar(education_counts.index, education_counts.values, color='skyblue')\n",
    "\n",
    "# Title and labels\n",
    "plt.title(\"Distribution of Typical Education Needed for Entry (2023)\", fontsize=16)\n",
    "plt.xlabel(\"Education Level\", fontsize=12)\n",
    "plt.ylabel(\"Number of Occupation\", fontsize=12)\n",
    "\n",
    "# Rotate x-axis labels for better readability\n",
    "plt.xticks(rotation=45, ha=\"right\")\n",
    "\n",
    "# Show the plot\n",
    "plt.tight_layout()\n",
    "plt.show()"
   ]
  },
  {
   "cell_type": "code",
   "execution_count": null,
   "metadata": {},
   "outputs": [],
   "source": [
    "df_table_5_4"
   ]
  },
  {
   "cell_type": "code",
   "execution_count": null,
   "metadata": {},
   "outputs": [],
   "source": [
    "# df_table_5_4['Work experience in a related occupation'] = (\n",
    "#     df_table_5_4['Work experience in a related occupation'].str.strip()\n",
    "# )\n"
   ]
  },
  {
   "cell_type": "code",
   "execution_count": null,
   "metadata": {},
   "outputs": [],
   "source": [
    "# Ensure work_exp matches the expected categories in the column\n",
    "work_exp = ['5 years or more', 'Less than 5 years', 'None']\n",
    "\n",
    "# Count occurrences in the \"Work experience in a related occupation\" column\n",
    "work_counts = df_table_5_4['Work experience in a related occupation'].value_counts()\n",
    "\n",
    "# Reindex to match the order of work_exp, filling missing values with 0\n",
    "workexp_counts = work_counts.reindex(work_exp, fill_value=0)\n",
    "\n",
    "# Plotting the distribution\n",
    "sns.set(style=\"whitegrid\")\n",
    "plt.figure(figsize=(10, 6))\n",
    "\n",
    "# Barplot for the work experience distribution\n",
    "plt.bar(workexp_counts.index, workexp_counts.values, color='green')\n",
    "\n",
    "# Add title and labels\n",
    "plt.title(\"Distribution of Work Experience Needed for Entry (2023)\", fontsize=16)\n",
    "plt.xlabel(\"Work Experience Level\", fontsize=12)\n",
    "plt.ylabel(\"Number of Occupations\", fontsize=12)\n",
    "\n",
    "# Rotate x-axis labels for better readability\n",
    "plt.xticks(rotation=45, ha=\"right\")\n",
    "\n",
    "# Show the plot\n",
    "plt.tight_layout()\n",
    "plt.show()\n"
   ]
  },
  {
   "cell_type": "code",
   "execution_count": null,
   "metadata": {},
   "outputs": [],
   "source": [
    "taining_levels = ['None',\n",
    "            'Moderate-term on-the-job training',\n",
    "            'Short-term on-the-job training',\n",
    "            'Long-term on-the-job training',\n",
    "            'Internship/residency',\n",
    "            'Apprenticeship']\n",
    "\n",
    "train_c = df_table_5_4['Typical on-the-job training needed to attain competency in the occupation'].value_counts()\n",
    "\n",
    "training_counts = train_c.reindex(taining_levels, fill_value=0)\n",
    "\n",
    "# Plotting the distribution\n",
    "sns.set(style=\"whitegrid\")\n",
    "plt.figure(figsize=(10, 6))\n",
    "\n",
    "# Barplot for the education level distribution\n",
    "plt.bar(training_counts.index, training_counts.values, color='purple')\n",
    "\n",
    "# Title and labels\n",
    "plt.title(\"Distribution of Work experience in a related occupation (2023)\", fontsize=16)\n",
    "plt.xlabel(\"Education Level\", fontsize=12)\n",
    "plt.ylabel(\"Number of Occupation\", fontsize=12)\n",
    "\n",
    "# Rotate x-axis labels for better readability\n",
    "plt.xticks(rotation=45, ha=\"right\")\n",
    "\n",
    "# Show the plot\n",
    "plt.tight_layout()\n",
    "plt.show()"
   ]
  }
 ],
 "metadata": {
  "kernelspec": {
   "display_name": "Python 3",
   "language": "python",
   "name": "python3"
  },
  "language_info": {
   "codemirror_mode": {
    "name": "ipython",
    "version": 3
   },
   "file_extension": ".py",
   "mimetype": "text/x-python",
   "name": "python",
   "nbconvert_exporter": "python",
   "pygments_lexer": "ipython3",
   "version": "3.11.0"
  }
 },
 "nbformat": 4,
 "nbformat_minor": 2
}
