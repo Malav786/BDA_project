{
 "cells": [
  {
   "cell_type": "code",
   "execution_count": null,
   "metadata": {},
   "outputs": [],
   "source": [
    "# Relative path to the Excel file (PRE PANDEMIC)\n",
    "import pandas as pd\n",
    "import os\n",
    "import openpyxl\n",
    "\n",
    "file_path = \"2019-29/education.xlsx\"\n",
    "# Now the post pandemic path\n",
    "file_path2 = \"2023-33/education.xlsx\"\n",
    "\n",
    "# Load the workbook\n",
    "# Prepandemic workbook\n",
    "workbook = openpyxl.load_workbook(file_path)\n",
    "# Postpandemic workbook\n",
    "workbook2 = openpyxl.load_workbook(file_path2)"
   ]
  },
  {
   "cell_type": "code",
   "execution_count": null,
   "metadata": {},
   "outputs": [],
   "source": [
    "import pandas as pd\n",
    "import openpyxl\n",
    "\n",
    "# Load the workbook from the Excel file\n",
    "file_path = \"2019-29/education.xlsx\"  # Replace with the correct file path\n",
    "workbook = openpyxl.load_workbook(file_path)\n",
    "df = pd.read_excel(file_path, sheet_name=\"Table 5.2\", header=1, nrows=9)\n"
   ]
  },
  {
   "cell_type": "code",
   "execution_count": null,
   "metadata": {},
   "outputs": [],
   "source": [
    "# Import the utility module\n",
    "from education_DataSet_cleaning_extraction import load_table_to_dataframe\n",
    "\n",
    "# Example usage\n",
    "file_path = \"2019-29/education.xlsx\"  # Replace with your actual file path\n",
    "sheet_name = \"Table 5.2\"\n",
    "header_row = 1  # Assuming the header starts at row 2 (1-indexed in Excel)\n",
    "num_rows = 9  # Number of rows to extract after the header\n",
    "\n",
    "# Load the table\n",
    "df_table = load_table_to_dataframe(file_path, sheet_name, header_row, num_rows)\n",
    "\n",
    "# Display the DataFrame\n",
    "df_table"
   ]
  },
  {
   "cell_type": "code",
   "execution_count": null,
   "metadata": {},
   "outputs": [],
   "source": []
  }
 ],
 "metadata": {
  "kernelspec": {
   "display_name": "new_env",
   "language": "python",
   "name": "python3"
  },
  "language_info": {
   "codemirror_mode": {
    "name": "ipython",
    "version": 3
   },
   "file_extension": ".py",
   "mimetype": "text/x-python",
   "name": "python",
   "nbconvert_exporter": "python",
   "pygments_lexer": "ipython3",
   "version": "3.12.4"
  }
 },
 "nbformat": 4,
 "nbformat_minor": 2
}
