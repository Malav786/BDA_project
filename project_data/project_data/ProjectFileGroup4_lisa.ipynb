{
 "cells": [
  {
   "cell_type": "code",
   "execution_count": null,
   "id": "dbcc66bb",
   "metadata": {},
   "outputs": [],
   "source": [
    "from DataProcessing.education_DataSet_cleaning_extraction import load_table_to_dataframe"
   ]
  },
  {
   "cell_type": "code",
   "execution_count": null,
   "id": "6f10d973",
   "metadata": {},
   "outputs": [],
   "source": [
    "\n",
    "file_path = \"Datasets/2019-29/education.xlsx\"\n",
    "file_path2 = \"Datasets/2023-33/education.xlsx\"\n",
    "file_path3 = \"Datasets/2019-29/occupation.xlsx\"\n",
    "education_52_1929 = load_table_to_dataframe(file_path, \"Table 5.2\", header_row=1,num_rows=9)\n",
    "education_53_1929 = load_table_to_dataframe(file_path, \"Table 5.3\", header_row=1,num_rows=791)\n",
    "education_54_1929 = load_table_to_dataframe(file_path,\"Table 5.4\",header_row=1,num_rows=790)\n",
    "education_51_2333 = load_table_to_dataframe(file_path2, \"Table 5.1\", header_row=1,num_rows=8)\n",
    "education_52_2333 = load_table_to_dataframe(file_path2, \"Table 5.2\", header_row=1,num_rows=9)\n",
    "education_53_2333 = load_table_to_dataframe(file_path2, \"Table 5.3\", header_row=1,num_rows=833)\n",
    "education_54_2333 = load_table_to_dataframe(file_path2,\"Table 5.4\",header_row=1,num_rows=832)\n",
    "occupation_11_1929 = load_table_to_dataframe(file_path3, \"Table 1.1\", header_row=1,num_rows=23)"
   ]
  },
  {
   "cell_type": "code",
   "execution_count": null,
   "id": "6d941c7c",
   "metadata": {},
   "outputs": [],
   "source": [
    "\n",
    "file_path = \"Datasets/2019-29/education.xlsx\"\n",
    "file_path2 = \"Datasets/2023-33/education.xlsx\"\n",
    "file_path3 = \"Datasets/2019-29/occupation.xlsx\"\n",
    "education_52_1929 = load_table_to_dataframe(file_path, \"Table 5.2\", header_row=1,num_rows=9)\n",
    "education_53_1929 = load_table_to_dataframe(file_path, \"Table 5.3\", header_row=1,num_rows=791)\n",
    "education_54_1929 = load_table_to_dataframe(file_path,\"Table 5.4\",header_row=1,num_rows=790)\n",
    "education_51_2333 = load_table_to_dataframe(file_path2, \"Table 5.1\", header_row=1,num_rows=8)\n",
    "education_52_2333 = load_table_to_dataframe(file_path2, \"Table 5.2\", header_row=1,num_rows=9)\n",
    "education_53_2333 = load_table_to_dataframe(file_path2, \"Table 5.3\", header_row=1,num_rows=833)\n",
    "education_54_2333 = load_table_to_dataframe(file_path2,\"Table 5.4\",header_row=1,num_rows=832)\n",
    "occupation_11_1929 = load_table_to_dataframe(file_path3, \"Table 1.1\", header_row=1,num_rows=23)"
   ]
  },
  {
   "cell_type": "code",
   "execution_count": null,
   "id": "e9f54627",
   "metadata": {},
   "outputs": [],
   "source": [
    "occupation_11_1929['lables'] = occupation_11_1929['2019 National Employment Matrix code'].str.split('-').str[0]"
   ]
  },
  {
   "cell_type": "code",
   "execution_count": null,
   "id": "b12c3be7",
   "metadata": {},
   "outputs": [],
   "source": [
    "# Create a dictionary from the two columns\n",
    "title_labels_dict = occupation_11_1929.set_index('lables')['2019 National Employment Matrix title'].to_dict()\n",
    "# Check the dictionary\n",
    "education_53_1929['lables'] = education_53_1929['2019 National Employment Matrix code'].str.split('-').str[0]\n",
    "education_53_1929['Title Labels'] = education_53_1929['lables'].map(title_labels_dict)\n",
    "\n",
    "education_53_2333['lables'] = education_54_2333['2023 National Employment Matrix code'].str.split('-').str[0]\n",
    "education_53_2333['Title Labels'] = education_53_2333['lables'].map(title_labels_dict)\n",
    "\n",
    "education_54_1929['lables'] = education_54_1929['2019 National Employment Matrix code'].str.split('-').str[0]\n",
    "education_54_1929['Title Labels'] = education_54_1929['lables'].map(title_labels_dict)\n",
    "\n",
    "education_54_2333['lables'] = education_54_2333['2023 National Employment Matrix code'].str.split('-').str[0]\n",
    "education_54_2333['Title Labels'] = education_54_2333['lables'].map(title_labels_dict)"
   ]
  },
  {
   "cell_type": "code",
   "execution_count": null,
   "id": "0df1ca14",
   "metadata": {},
   "outputs": [],
   "source": [
    "education_53_1929"
   ]
  },
  {
   "cell_type": "code",
   "execution_count": null,
   "id": "65d53bcd",
   "metadata": {},
   "outputs": [],
   "source": [
    "education_53_1929['2019 National Employment Matrix title'] = education_53_1929[\n",
    "    '2019 National Employment Matrix title'\n",
    "].str.replace(r'\\(.*?\\)', '', regex=True).str.strip()\n",
    "\n",
    "education_53_1929"
   ]
  },
  {
   "cell_type": "code",
   "execution_count": null,
   "id": "86bcc82b",
   "metadata": {},
   "outputs": [],
   "source": [
    "education_53_2333"
   ]
  },
  {
   "cell_type": "code",
   "execution_count": null,
   "id": "4017f264",
   "metadata": {},
   "outputs": [],
   "source": [
    "education_53_2333['2023 National Employment Matrix title'] = education_53_2333[\n",
    "    '2023 National Employment Matrix title'\n",
    "].str.replace(r'\\[.*?\\]', '', regex=True).str.strip()\n",
    "\n",
    "education_53_2333"
   ]
  },
  {
   "cell_type": "code",
   "execution_count": null,
   "id": "41e9d003",
   "metadata": {},
   "outputs": [],
   "source": [
    "import dataprocessing as dp\n",
    "file_path = \"Datasets/2019-29/education.xlsx\"\n",
    "file_path2 = \"Datasets/2023-33/education.xlsx\"\n",
    "file_path3 = \"Datasets/2019-29/occupation.xlsx\"\n",
    "\n",
    "#dataframes = dp.process_and_clean_data(file_path, file_path2, file_path3)\n",
    "\n",
    "dataframes = dp.process_and_clean_data()\n"
   ]
  },
  {
   "cell_type": "code",
   "execution_count": null,
   "id": "102157c1",
   "metadata": {},
   "outputs": [],
   "source": [
    "\n",
    "def my_graph(dataframes):\n",
    "    get_yours = dataframes['oesm_national_M2023_dl_23']\n",
    "\n",
    "    \n",
    "    return fig"
   ]
  },
  {
   "cell_type": "code",
   "execution_count": null,
   "id": "2c03e006",
   "metadata": {},
   "outputs": [],
   "source": [
    "import seaborn as sns\n",
    "import matplotlib.pyplot as plt\n",
    "\n",
    "numerical_columns = [\n",
    "    \"High school diploma or equivalent\", \n",
    "    \"Some college, no degree\", \n",
    "    \"Associate's degree\",\n",
    "    \"Bachelor's degree\", \n",
    "    \"Master's degree\", \n",
    "    \"Doctoral or professional degree\"\n",
    "]\n",
    "\n",
    "correlation_matrix = education_53_1929[numerical_columns].corr()\n",
    "\n",
    "plt.figure(figsize=(8, 6))\n",
    "sns.heatmap(correlation_matrix, annot=True, cmap='coolwarm', fmt=\".2f\", cbar=True, square=True)\n",
    "plt.title('Feature Correlation Matrix')\n",
    "plt.show()"
   ]
  },
  {
   "cell_type": "markdown",
   "id": "a18801c6",
   "metadata": {},
   "source": [
    "Correlation Metrics:\n",
    "\n",
    "0: no correlation at all\n",
    "\n",
    "0-0.3: weak correlation\n",
    "\n",
    "0.3-0.7: moderate correlation\n",
    "\n",
    "0.7-1: strong correlation\n",
    "\n",
    "Positive Correlation indicates that when one variable increase, the other also does. Negative is the opposite."
   ]
  },
  {
   "cell_type": "markdown",
   "id": "c9ad881b",
   "metadata": {},
   "source": [
    "Random Forest can handle correlated features without much issue"
   ]
  },
  {
   "cell_type": "code",
   "execution_count": null,
   "id": "6a0e1e6c",
   "metadata": {},
   "outputs": [],
   "source": []
  },
  {
   "cell_type": "code",
   "execution_count": null,
   "id": "d4ec4888",
   "metadata": {},
   "outputs": [],
   "source": [
    "education_53_2333 = education_53_2333.dropna()"
   ]
  },
  {
   "cell_type": "code",
   "execution_count": null,
   "id": "c8e92eb5",
   "metadata": {},
   "outputs": [],
   "source": [
    "education_53_2333.info()"
   ]
  },
  {
   "cell_type": "code",
   "execution_count": null,
   "id": "661a955b",
   "metadata": {},
   "outputs": [],
   "source": [
    "education_53_2333.describe()"
   ]
  },
  {
   "cell_type": "code",
   "execution_count": null,
   "id": "be159dbc",
   "metadata": {},
   "outputs": [],
   "source": [
    "education_53_2333.isnull().sum()"
   ]
  },
  {
   "cell_type": "code",
   "execution_count": null,
   "id": "52edbc1d",
   "metadata": {},
   "outputs": [],
   "source": [
    "education_53_2333.duplicated().sum()"
   ]
  },
  {
   "cell_type": "code",
   "execution_count": null,
   "id": "7f045581",
   "metadata": {},
   "outputs": [],
   "source": [
    "education_53_2333.drop(['2023 National Employment Matrix code', 'lables'], axis=1, inplace=True)"
   ]
  },
  {
   "cell_type": "code",
   "execution_count": null,
   "id": "460384ee",
   "metadata": {},
   "outputs": [],
   "source": [
    "education_53_2333"
   ]
  },
  {
   "cell_type": "code",
   "execution_count": null,
   "id": "4980718b",
   "metadata": {},
   "outputs": [],
   "source": [
    "numerical_cols = ['Less than high school diploma', 'High school diploma or equivalent', \n",
    "                  'Some college, no degree', 'Associate\\'s degree', 'Bachelor\\'s degree', \n",
    "                  'Master\\'s degree', 'Doctoral or professional degree']"
   ]
  },
  {
   "cell_type": "code",
   "execution_count": null,
   "id": "e3aaa407",
   "metadata": {},
   "outputs": [],
   "source": [
    "from sklearn.preprocessing import StandardScaler\n",
    "from sklearn.decomposition import PCA\n",
    "\n",
    "scaler = StandardScaler()\n",
    "normalized_data = scaler.fit_transform(education_53_2333[numerical_cols])\n",
    "\n",
    "pca = PCA(n_components=2)  \n",
    "principal_components = pca.fit_transform(normalized_data)\n",
    "\n",
    "\n",
    "pca_df = pd.DataFrame(data=principal_components, columns=['Principal Component 1', 'Principal Component 2'])\n",
    "\n",
    "pca_df['Title Labels'] = education_53_2333['Title Labels']\n"
   ]
  },
  {
   "cell_type": "code",
   "execution_count": null,
   "id": "02a5f1a8",
   "metadata": {},
   "outputs": [],
   "source": [
    "print(f\"Explained variance ratio: {pca.explained_variance_ratio_}\")\n",
    "print(f\"Total variance explained: {sum(pca.explained_variance_ratio_)}\")"
   ]
  },
  {
   "cell_type": "code",
   "execution_count": null,
   "id": "6eae4d15",
   "metadata": {},
   "outputs": [],
   "source": [
    "from sklearn.model_selection import train_test_split\n",
    "from sklearn.ensemble import RandomForestClassifier\n",
    "from sklearn.metrics import classification_report"
   ]
  },
  {
   "cell_type": "code",
   "execution_count": null,
   "id": "252f39e0",
   "metadata": {},
   "outputs": [],
   "source": [
    "# Split the data into training and testing sets\n",
    "X_train, X_test, y_train, y_test = train_test_split(pca_df[['Principal Component 1', 'Principal Component 2']], \n",
    "                                                    pca_df['Title Labels'], \n",
    "                                                    test_size=0.2, random_state=42)\n",
    "\n",
    "# Initialize the Random Forest Classifier\n",
    "rf_classifier = RandomForestClassifier(n_estimators=100, random_state=42)\n",
    "\n",
    "# Train the model\n",
    "rf_classifier.fit(X_train, y_train)\n",
    "\n",
    "# Predict on the test set\n",
    "y_pred = rf_classifier.predict(X_test)\n",
    "\n",
    "# Evaluate the model\n",
    "print(classification_report(y_test, y_pred))"
   ]
  },
  {
   "cell_type": "code",
   "execution_count": null,
   "id": "92df3b2b",
   "metadata": {},
   "outputs": [],
   "source": []
  },
  {
   "cell_type": "code",
   "execution_count": null,
   "id": "7816a340",
   "metadata": {},
   "outputs": [],
   "source": [
    "# from sklearn.model_selection import train_test_split\n",
    "# from sklearn.linear_model import LogisticRegression\n",
    "# from sklearn.metrics import classification_report\n",
    "# from sklearn.ensemble import RandomForestClassifier\n",
    "\n",
    "# X = education_53_2333[numerical_cols]\n",
    "# y = education_53_2333['Title Labels']\n",
    "\n",
    "# X_train, X_test, y_train, y_test = train_test_split(X, y, test_size=0.2, random_state=42)\n",
    "\n",
    "\n",
    "# clf = RandomForestClassifier(n_estimators=100, random_state=42)\n",
    "\n",
    "# clf.fit(X_train, y_train)\n",
    "\n",
    "\n",
    "# y_pred = clf.predict(X_test)\\\n",
    "    \n",
    "\n",
    "\n",
    "# print(classification_report(y_test, y_pred))"
   ]
  },
  {
   "cell_type": "code",
   "execution_count": null,
   "id": "67bcfad4",
   "metadata": {},
   "outputs": [],
   "source": [
    "education_53_2333.shape"
   ]
  },
  {
   "cell_type": "code",
   "execution_count": null,
   "id": "d2d04d30",
   "metadata": {},
   "outputs": [],
   "source": [
    "unique_values = education_53_2333['2023 National Employment Matrix title'].unique()\n",
    "\n",
    "# Print unique values\n",
    "print(unique_values)"
   ]
  },
  {
   "cell_type": "markdown",
   "id": "c37b4d8b",
   "metadata": {},
   "source": [
    "performance is bad\n",
    "possible reasons\n",
    "\n",
    "- imbalanced dataset\n",
    "- feature selection?\n"
   ]
  },
  {
   "cell_type": "code",
   "execution_count": null,
   "id": "7f8e5f2d",
   "metadata": {},
   "outputs": [],
   "source": []
  },
  {
   "cell_type": "markdown",
   "id": "f738b31d",
   "metadata": {},
   "source": [
    "high precision indicates that when the model predicts a class, it's likely correct\n",
    "high recall means the model is good at identifying instances of the class"
   ]
  },
  {
   "cell_type": "code",
   "execution_count": null,
   "id": "43506794",
   "metadata": {},
   "outputs": [],
   "source": [
    "import dataprocessing as dp\n",
    "datframes = dp.process_and_clean_data()"
   ]
  },
  {
   "cell_type": "code",
   "execution_count": null,
   "id": "d28479c4",
   "metadata": {},
   "outputs": [],
   "source": []
  },
  {
   "cell_type": "code",
   "execution_count": null,
   "id": "b2953b03",
   "metadata": {},
   "outputs": [],
   "source": []
  }
 ],
 "metadata": {
  "colab": {
   "provenance": []
  },
  "kernelspec": {
   "display_name": "new_env",
   "language": "python",
   "name": "python3"
  },
  "language_info": {
   "codemirror_mode": {
    "name": "ipython",
    "version": 3
   },
   "file_extension": ".py",
   "mimetype": "text/x-python",
   "name": "python",
   "nbconvert_exporter": "python",
   "pygments_lexer": "ipython3",
   "version": "3.12.4"
  }
 },
 "nbformat": 4,
 "nbformat_minor": 5
}
