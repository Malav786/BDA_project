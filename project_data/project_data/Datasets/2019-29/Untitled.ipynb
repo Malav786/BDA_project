{
 "cells": [
  {
   "cell_type": "code",
   "execution_count": 2,
   "id": "23c5244d-d893-448a-9c70-ba7854954c84",
   "metadata": {},
   "outputs": [],
   "source": [
    "import pandas as pd\n"
   ]
  },
  {
   "cell_type": "code",
   "execution_count": 4,
   "id": "6cb3417c-379a-40f1-93c0-e9dd410cd34b",
   "metadata": {},
   "outputs": [],
   "source": [
    "# Replace path (first parameter) with the path to your Excel file\n",
    "df = pd.read_excel(\"education.xlsx\", engine=\"openpyxl\")\n"
   ]
  },
  {
   "cell_type": "code",
   "execution_count": null,
   "id": "0f110599-c963-4380-bb0a-46453cc7eaeb",
   "metadata": {},
   "outputs": [],
   "source": [
    "df.head()"
   ]
  },
  {
   "cell_type": "code",
   "execution_count": null,
   "id": "d3200c61-6bae-4aa8-b2e7-886f472ec224",
   "metadata": {},
   "outputs": [],
   "source": []
  }
 ],
 "metadata": {
  "kernelspec": {
   "display_name": "Python 3 (ipykernel)",
   "language": "python",
   "name": "python3"
  },
  "language_info": {
   "codemirror_mode": {
    "name": "ipython",
    "version": 3
   },
   "file_extension": ".py",
   "mimetype": "text/x-python",
   "name": "python",
   "nbconvert_exporter": "python",
   "pygments_lexer": "ipython3",
   "version": "3.12.4"
  }
 },
 "nbformat": 4,
 "nbformat_minor": 5
}
